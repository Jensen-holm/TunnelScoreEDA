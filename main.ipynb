{
 "cells": [
  {
   "cell_type": "markdown",
   "metadata": {},
   "source": [
    "# Tunnel Score Exploratory Data Analysis\n",
    "\n",
    "Jensen Holm\n",
    "Sep. 2024"
   ]
  },
  {
   "cell_type": "code",
   "execution_count": 1,
   "metadata": {},
   "outputs": [
    {
     "name": "stdout",
     "output_type": "stream",
     "text": [
      "This is a large query, it may take a moment to complete\n",
      "Skipping offseason dates\n"
     ]
    },
    {
     "name": "stderr",
     "output_type": "stream",
     "text": [
      "100%|██████████| 173/173 [00:59<00:00,  2.91it/s]\n",
      "/Users/jensen/Documents/projects/TunnelScoreEDA/venv/lib/python3.12/site-packages/pybaseball/statcast.py:85: FutureWarning: The behavior of DataFrame concatenation with empty or all-NA entries is deprecated. In a future version, this will no longer exclude empty or all-NA columns when determining the result dtypes. To retain the old behavior, exclude the relevant entries before the concat operation.\n",
      "  final_data = pd.concat(dataframe_list, axis=0).convert_dtypes(convert_string=False)\n"
     ]
    },
    {
     "data": {
      "text/html": [
       "<div><style>\n",
       ".dataframe > thead > tr,\n",
       ".dataframe > tbody > tr {\n",
       "  text-align: right;\n",
       "  white-space: pre-wrap;\n",
       "}\n",
       "</style>\n",
       "<small>shape: (3, 94)</small><table border=\"1\" class=\"dataframe\"><thead><tr><th>pitch_type</th><th>game_date</th><th>release_speed</th><th>release_pos_x</th><th>release_pos_z</th><th>player_name</th><th>batter</th><th>pitcher</th><th>events</th><th>description</th><th>spin_dir</th><th>spin_rate_deprecated</th><th>break_angle_deprecated</th><th>break_length_deprecated</th><th>zone</th><th>des</th><th>game_type</th><th>stand</th><th>p_throws</th><th>home_team</th><th>away_team</th><th>type</th><th>hit_location</th><th>bb_type</th><th>balls</th><th>strikes</th><th>game_year</th><th>pfx_x</th><th>pfx_z</th><th>plate_x</th><th>plate_z</th><th>on_3b</th><th>on_2b</th><th>on_1b</th><th>outs_when_up</th><th>inning</th><th>inning_topbot</th><th>&hellip;</th><th>release_extension</th><th>game_pk</th><th>pitcher.1</th><th>fielder_2.1</th><th>fielder_3</th><th>fielder_4</th><th>fielder_5</th><th>fielder_6</th><th>fielder_7</th><th>fielder_8</th><th>fielder_9</th><th>release_pos_y</th><th>estimated_ba_using_speedangle</th><th>estimated_woba_using_speedangle</th><th>woba_value</th><th>woba_denom</th><th>babip_value</th><th>iso_value</th><th>launch_speed_angle</th><th>at_bat_number</th><th>pitch_number</th><th>pitch_name</th><th>home_score</th><th>away_score</th><th>bat_score</th><th>fld_score</th><th>post_away_score</th><th>post_home_score</th><th>post_bat_score</th><th>post_fld_score</th><th>if_fielding_alignment</th><th>of_fielding_alignment</th><th>spin_axis</th><th>delta_home_win_exp</th><th>delta_run_exp</th><th>bat_speed</th><th>swing_length</th></tr><tr><td>str</td><td>datetime[ns]</td><td>f64</td><td>f64</td><td>f64</td><td>str</td><td>i64</td><td>i64</td><td>str</td><td>str</td><td>i64</td><td>i64</td><td>i64</td><td>i64</td><td>i64</td><td>str</td><td>str</td><td>str</td><td>str</td><td>str</td><td>str</td><td>str</td><td>i64</td><td>str</td><td>i64</td><td>i64</td><td>i64</td><td>f64</td><td>f64</td><td>f64</td><td>f64</td><td>i64</td><td>i64</td><td>i64</td><td>i64</td><td>i64</td><td>str</td><td>&hellip;</td><td>f64</td><td>i64</td><td>i64</td><td>i64</td><td>i64</td><td>i64</td><td>i64</td><td>i64</td><td>i64</td><td>i64</td><td>i64</td><td>f64</td><td>f64</td><td>f64</td><td>f64</td><td>i64</td><td>i64</td><td>i64</td><td>i64</td><td>i64</td><td>i64</td><td>str</td><td>i64</td><td>i64</td><td>i64</td><td>i64</td><td>i64</td><td>i64</td><td>i64</td><td>i64</td><td>str</td><td>str</td><td>i64</td><td>f64</td><td>f64</td><td>f64</td><td>f64</td></tr></thead><tbody><tr><td>&quot;FF&quot;</td><td>2024-09-02 00:00:00</td><td>96.2</td><td>-1.0</td><td>6.1</td><td>&quot;Honeywell, Brent&quot;</td><td>656976</td><td>641703</td><td>&quot;field_out&quot;</td><td>&quot;hit_into_play&quot;</td><td>null</td><td>null</td><td>null</td><td>null</td><td>4</td><td>&quot;Pavin Smith lines out sharply …</td><td>&quot;R&quot;</td><td>&quot;L&quot;</td><td>&quot;R&quot;</td><td>&quot;AZ&quot;</td><td>&quot;LAD&quot;</td><td>&quot;X&quot;</td><td>7</td><td>&quot;line_drive&quot;</td><td>2</td><td>2</td><td>2024</td><td>-0.62</td><td>1.47</td><td>-0.48</td><td>2.62</td><td>null</td><td>605137</td><td>null</td><td>2</td><td>9</td><td>&quot;Bot&quot;</td><td>&hellip;</td><td>6.2</td><td>747155</td><td>641703</td><td>669257</td><td>518692</td><td>621035</td><td>571771</td><td>500743</td><td>606192</td><td>669242</td><td>681624</td><td>54.34</td><td>0.611</td><td>0.631</td><td>0.0</td><td>1</td><td>0</td><td>0</td><td>4</td><td>87</td><td>5</td><td>&quot;4-Seam Fastball&quot;</td><td>6</td><td>11</td><td>6</td><td>11</td><td>11</td><td>6</td><td>6</td><td>11</td><td>&quot;Strategic&quot;</td><td>&quot;Standard&quot;</td><td>206</td><td>-0.001</td><td>-0.28</td><td>70.34365</td><td>6.63676</td></tr><tr><td>&quot;SC&quot;</td><td>2024-09-02 00:00:00</td><td>79.7</td><td>-1.13</td><td>6.01</td><td>&quot;Honeywell, Brent&quot;</td><td>656976</td><td>641703</td><td>null</td><td>&quot;ball&quot;</td><td>null</td><td>null</td><td>null</td><td>null</td><td>13</td><td>&quot;Pavin Smith lines out sharply …</td><td>&quot;R&quot;</td><td>&quot;L&quot;</td><td>&quot;R&quot;</td><td>&quot;AZ&quot;</td><td>&quot;LAD&quot;</td><td>&quot;B&quot;</td><td>null</td><td>null</td><td>1</td><td>2</td><td>2024</td><td>-0.61</td><td>-0.35</td><td>-0.35</td><td>1.2</td><td>null</td><td>605137</td><td>null</td><td>2</td><td>9</td><td>&quot;Bot&quot;</td><td>&hellip;</td><td>6.2</td><td>747155</td><td>641703</td><td>669257</td><td>518692</td><td>621035</td><td>571771</td><td>500743</td><td>606192</td><td>669242</td><td>681624</td><td>54.29</td><td>null</td><td>null</td><td>null</td><td>null</td><td>null</td><td>null</td><td>null</td><td>87</td><td>4</td><td>&quot;Screwball&quot;</td><td>6</td><td>11</td><td>6</td><td>11</td><td>11</td><td>6</td><td>6</td><td>11</td><td>&quot;Infield shade&quot;</td><td>&quot;Standard&quot;</td><td>304</td><td>0.0</td><td>0.048</td><td>null</td><td>null</td></tr><tr><td>&quot;SC&quot;</td><td>2024-09-02 00:00:00</td><td>81.6</td><td>-1.21</td><td>6.06</td><td>&quot;Honeywell, Brent&quot;</td><td>656976</td><td>641703</td><td>null</td><td>&quot;called_strike&quot;</td><td>null</td><td>null</td><td>null</td><td>null</td><td>8</td><td>&quot;Pavin Smith lines out sharply …</td><td>&quot;R&quot;</td><td>&quot;L&quot;</td><td>&quot;R&quot;</td><td>&quot;AZ&quot;</td><td>&quot;LAD&quot;</td><td>&quot;S&quot;</td><td>null</td><td>null</td><td>1</td><td>1</td><td>2024</td><td>-0.57</td><td>-0.35</td><td>-0.27</td><td>1.81</td><td>null</td><td>605137</td><td>null</td><td>2</td><td>9</td><td>&quot;Bot&quot;</td><td>&hellip;</td><td>6.2</td><td>747155</td><td>641703</td><td>669257</td><td>518692</td><td>621035</td><td>571771</td><td>500743</td><td>606192</td><td>669242</td><td>681624</td><td>54.29</td><td>null</td><td>null</td><td>null</td><td>null</td><td>null</td><td>null</td><td>null</td><td>87</td><td>3</td><td>&quot;Screwball&quot;</td><td>6</td><td>11</td><td>6</td><td>11</td><td>11</td><td>6</td><td>6</td><td>11</td><td>&quot;Strategic&quot;</td><td>&quot;Standard&quot;</td><td>286</td><td>0.0</td><td>-0.073</td><td>null</td><td>null</td></tr></tbody></table></div>"
      ],
      "text/plain": [
       "shape: (3, 94)\n",
       "┌───────────┬───────────┬───────────┬───────────┬───┬───────────┬───────────┬───────────┬──────────┐\n",
       "│ pitch_typ ┆ game_date ┆ release_s ┆ release_p ┆ … ┆ delta_hom ┆ delta_run ┆ bat_speed ┆ swing_le │\n",
       "│ e         ┆ ---       ┆ peed      ┆ os_x      ┆   ┆ e_win_exp ┆ _exp      ┆ ---       ┆ ngth     │\n",
       "│ ---       ┆ datetime[ ┆ ---       ┆ ---       ┆   ┆ ---       ┆ ---       ┆ f64       ┆ ---      │\n",
       "│ str       ┆ ns]       ┆ f64       ┆ f64       ┆   ┆ f64       ┆ f64       ┆           ┆ f64      │\n",
       "╞═══════════╪═══════════╪═══════════╪═══════════╪═══╪═══════════╪═══════════╪═══════════╪══════════╡\n",
       "│ FF        ┆ 2024-09-0 ┆ 96.2      ┆ -1.0      ┆ … ┆ -0.001    ┆ -0.28     ┆ 70.34365  ┆ 6.63676  │\n",
       "│           ┆ 2         ┆           ┆           ┆   ┆           ┆           ┆           ┆          │\n",
       "│           ┆ 00:00:00  ┆           ┆           ┆   ┆           ┆           ┆           ┆          │\n",
       "│ SC        ┆ 2024-09-0 ┆ 79.7      ┆ -1.13     ┆ … ┆ 0.0       ┆ 0.048     ┆ null      ┆ null     │\n",
       "│           ┆ 2         ┆           ┆           ┆   ┆           ┆           ┆           ┆          │\n",
       "│           ┆ 00:00:00  ┆           ┆           ┆   ┆           ┆           ┆           ┆          │\n",
       "│ SC        ┆ 2024-09-0 ┆ 81.6      ┆ -1.21     ┆ … ┆ 0.0       ┆ -0.073    ┆ null      ┆ null     │\n",
       "│           ┆ 2         ┆           ┆           ┆   ┆           ┆           ┆           ┆          │\n",
       "│           ┆ 00:00:00  ┆           ┆           ┆   ┆           ┆           ┆           ┆          │\n",
       "└───────────┴───────────┴───────────┴───────────┴───┴───────────┴───────────┴───────────┴──────────┘"
      ]
     },
     "execution_count": 1,
     "metadata": {},
     "output_type": "execute_result"
    }
   ],
   "source": [
    "import polars as pl\n",
    "import pybaseball\n",
    "import datetime\n",
    "\n",
    "from utils import pl_euclidean_distance, get_player_headshot\n",
    "\n",
    "orig_df = pl.from_pandas(\n",
    "    pybaseball.statcast(\n",
    "        start_dt=\"2024-03-01\",\n",
    "        end_dt=datetime.datetime.today().strftime(\"%Y-%m-%d\"),\n",
    "))\n",
    "\n",
    "orig_df.head(3)"
   ]
  },
  {
   "cell_type": "markdown",
   "metadata": {},
   "source": [
    "## Tying pitches to their previous ones\n",
    "\n",
    "This will allow us to compare each pitch to the one before it, giving us the ability to calculate tunnel score."
   ]
  },
  {
   "cell_type": "code",
   "execution_count": 2,
   "metadata": {},
   "outputs": [
    {
     "data": {
      "text/html": [
       "<div><style>\n",
       ".dataframe > thead > tr,\n",
       ".dataframe > tbody > tr {\n",
       "  text-align: right;\n",
       "  white-space: pre-wrap;\n",
       "}\n",
       "</style>\n",
       "<small>shape: (5, 4)</small><table border=\"1\" class=\"dataframe\"><thead><tr><th>game_date</th><th>pitcher</th><th>at_bat_number</th><th>pitch_number</th></tr><tr><td>datetime[ns]</td><td>i64</td><td>i64</td><td>i64</td></tr></thead><tbody><tr><td>2024-09-02 00:00:00</td><td>687924</td><td>24</td><td>8</td></tr><tr><td>2024-09-02 00:00:00</td><td>687924</td><td>24</td><td>7</td></tr><tr><td>2024-09-02 00:00:00</td><td>687924</td><td>24</td><td>6</td></tr><tr><td>2024-09-02 00:00:00</td><td>687924</td><td>24</td><td>5</td></tr><tr><td>2024-09-02 00:00:00</td><td>687924</td><td>24</td><td>4</td></tr></tbody></table></div>"
      ],
      "text/plain": [
       "shape: (5, 4)\n",
       "┌─────────────────────┬─────────┬───────────────┬──────────────┐\n",
       "│ game_date           ┆ pitcher ┆ at_bat_number ┆ pitch_number │\n",
       "│ ---                 ┆ ---     ┆ ---           ┆ ---          │\n",
       "│ datetime[ns]        ┆ i64     ┆ i64           ┆ i64          │\n",
       "╞═════════════════════╪═════════╪═══════════════╪══════════════╡\n",
       "│ 2024-09-02 00:00:00 ┆ 687924  ┆ 24            ┆ 8            │\n",
       "│ 2024-09-02 00:00:00 ┆ 687924  ┆ 24            ┆ 7            │\n",
       "│ 2024-09-02 00:00:00 ┆ 687924  ┆ 24            ┆ 6            │\n",
       "│ 2024-09-02 00:00:00 ┆ 687924  ┆ 24            ┆ 5            │\n",
       "│ 2024-09-02 00:00:00 ┆ 687924  ┆ 24            ┆ 4            │\n",
       "└─────────────────────┴─────────┴───────────────┴──────────────┘"
      ]
     },
     "execution_count": 2,
     "metadata": {},
     "output_type": "execute_result"
    }
   ],
   "source": [
    "# first we need to sort all the pitches\n",
    "\n",
    "SORT_COLS = [\n",
    "    \"game_date\",\n",
    "    \"pitcher\",\n",
    "    \"at_bat_number\",\n",
    "    \"pitch_number\",\n",
    "]\n",
    "\n",
    "shifted_df = orig_df.sort(SORT_COLS, descending=True)\n",
    "\n",
    "OVER_COLS = [\"at_bat_number\", \"pitcher\"]\n",
    "# now we can shift the data by one row to get the previous pitch data for each pitch in one row\n",
    "for col_name in shifted_df.columns:\n",
    "    shifted_df = shifted_df.with_columns(\n",
    "        pl.col(col_name)\n",
    "        .shift(-1)\n",
    "        .over(OVER_COLS)\n",
    "        .alias(f\"prev_{col_name}\")\n",
    "    )\n",
    "\n",
    "shifted_df.select(SORT_COLS).head()"
   ]
  },
  {
   "cell_type": "markdown",
   "metadata": {},
   "source": [
    "## Adding Tunnel Score\n",
    "\n",
    "```math\n",
    "TunnelScore = log_{2}( (\\frac{TunnelDistance}{ActualDistance}) - releaseDistance)\n",
    "```\n",
    "\n",
    "Where ...\n",
    "\n",
    "**ReleaseDistance** = euclidean distance between the release points of current pitch and the previous pitch\n",
    "\n",
    "**ActualDistance** = euclidean distance between where the current pitch ended up over the plate, and the previous pitch \n",
    "\n",
    "**TunnelDistance** = euclidean distance between where the current pitch would have ended up without movement, and the same for the previous pitch \n"
   ]
  },
  {
   "cell_type": "code",
   "execution_count": 3,
   "metadata": {},
   "outputs": [
    {
     "data": {
      "text/html": [
       "<div><style>\n",
       ".dataframe > thead > tr,\n",
       ".dataframe > tbody > tr {\n",
       "  text-align: right;\n",
       "  white-space: pre-wrap;\n",
       "}\n",
       "</style>\n",
       "<small>shape: (5, 7)</small><table border=\"1\" class=\"dataframe\"><thead><tr><th>game_date</th><th>pitcher</th><th>at_bat_number</th><th>pitch_number</th><th>tunnel_distance</th><th>actual_distance</th><th>release_distance</th></tr><tr><td>datetime[ns]</td><td>i64</td><td>i64</td><td>i64</td><td>f64</td><td>f64</td><td>f64</td></tr></thead><tbody><tr><td>2024-09-02 00:00:00</td><td>687924</td><td>24</td><td>8</td><td>1.4796</td><td>2.51</td><td>0.3129</td></tr><tr><td>2024-09-02 00:00:00</td><td>687924</td><td>24</td><td>7</td><td>2.3241</td><td>2.3776</td><td>0.0969</td></tr><tr><td>2024-09-02 00:00:00</td><td>687924</td><td>24</td><td>6</td><td>13.2781</td><td>4.1104</td><td>0.0876</td></tr><tr><td>2024-09-02 00:00:00</td><td>687924</td><td>24</td><td>5</td><td>7.3661</td><td>3.1025</td><td>0.1429</td></tr><tr><td>2024-09-02 00:00:00</td><td>687924</td><td>24</td><td>4</td><td>4.6009</td><td>1.9689</td><td>0.1641</td></tr></tbody></table></div>"
      ],
      "text/plain": [
       "shape: (5, 7)\n",
       "┌──────────────┬─────────┬──────────────┬──────────────┬──────────────┬──────────────┬─────────────┐\n",
       "│ game_date    ┆ pitcher ┆ at_bat_numbe ┆ pitch_number ┆ tunnel_dista ┆ actual_dista ┆ release_dis │\n",
       "│ ---          ┆ ---     ┆ r            ┆ ---          ┆ nce          ┆ nce          ┆ tance       │\n",
       "│ datetime[ns] ┆ i64     ┆ ---          ┆ i64          ┆ ---          ┆ ---          ┆ ---         │\n",
       "│              ┆         ┆ i64          ┆              ┆ f64          ┆ f64          ┆ f64         │\n",
       "╞══════════════╪═════════╪══════════════╪══════════════╪══════════════╪══════════════╪═════════════╡\n",
       "│ 2024-09-02   ┆ 687924  ┆ 24           ┆ 8            ┆ 1.4796       ┆ 2.51         ┆ 0.3129      │\n",
       "│ 00:00:00     ┆         ┆              ┆              ┆              ┆              ┆             │\n",
       "│ 2024-09-02   ┆ 687924  ┆ 24           ┆ 7            ┆ 2.3241       ┆ 2.3776       ┆ 0.0969      │\n",
       "│ 00:00:00     ┆         ┆              ┆              ┆              ┆              ┆             │\n",
       "│ 2024-09-02   ┆ 687924  ┆ 24           ┆ 6            ┆ 13.2781      ┆ 4.1104       ┆ 0.0876      │\n",
       "│ 00:00:00     ┆         ┆              ┆              ┆              ┆              ┆             │\n",
       "│ 2024-09-02   ┆ 687924  ┆ 24           ┆ 5            ┆ 7.3661       ┆ 3.1025       ┆ 0.1429      │\n",
       "│ 00:00:00     ┆         ┆              ┆              ┆              ┆              ┆             │\n",
       "│ 2024-09-02   ┆ 687924  ┆ 24           ┆ 4            ┆ 4.6009       ┆ 1.9689       ┆ 0.1641      │\n",
       "│ 00:00:00     ┆         ┆              ┆              ┆              ┆              ┆             │\n",
       "└──────────────┴─────────┴──────────────┴──────────────┴──────────────┴──────────────┴─────────────┘"
      ]
     },
     "execution_count": 3,
     "metadata": {},
     "output_type": "execute_result"
    }
   ],
   "source": [
    "# compute where the pitch and the previous one would have been if they had no movement\n",
    "tunnel_distance_df: pl.DataFrame = shifted_df.with_columns(\n",
    "    plate_x_no_move=pl.col(\"plate_x\") - pl.col(\"pfx_x\"), # x coord of the pitch if it had no movement\n",
    "    plate_z_no_move=pl.col(\"plate_z\") - pl.col(\"pfx_z\"), # z coord of the pitch if it had no movement\n",
    "    prev_plate_x_no_move=pl.col(\"prev_plate_x\") - pl.col(\"prev_pfx_x\"), # x coord of the previous pitch if it had no movement\n",
    "    prev_plate_z_no_move=pl.col(\"prev_plate_z\") - pl.col(\"prev_pfx_z\"), # z coord of the previous pitch if it had no movement\n",
    ")\n",
    "\n",
    "tunnel_score_df: pl.DataFrame = tunnel_distance_df.with_columns(\n",
    "    # tunnel_distance is the distance between the pitch and the previous pitch if they had no movement\n",
    "    tunnel_distance=pl_euclidean_distance( \n",
    "        x1=pl.col(\"plate_x_no_move\"), \n",
    "        y1=pl.col(\"plate_z_no_move\"), \n",
    "        x2=pl.col(\"prev_plate_x_no_move\"), \n",
    "        y2=pl.col(\"prev_plate_z_no_move\"),\n",
    "    ),\n",
    "\n",
    "    # actual_distance is the distance between the pitch and the previous pitch\n",
    "    actual_distance=pl_euclidean_distance(\n",
    "        x1=pl.col(\"plate_x\"),\n",
    "        y1=pl.col(\"plate_z\"),\n",
    "        x2=pl.col(\"prev_plate_x\"),\n",
    "        y2=pl.col(\"prev_plate_z\"),\n",
    "    ),\n",
    "\n",
    "    # release_distance is the distance between the release point of the pitch and the previous pitch\n",
    "    release_distance=pl_euclidean_distance(\n",
    "        x1=pl.col(\"release_pos_x\"),\n",
    "        y1=pl.col(\"release_pos_z\"),\n",
    "        x2=pl.col(\"prev_release_pos_x\"),\n",
    "        y2=pl.col(\"prev_release_pos_z\"),\n",
    "    ),\n",
    ")\n",
    "\n",
    "TUNNEL_COLS = [\n",
    "    \"tunnel_distance\",\n",
    "    \"actual_distance\",\n",
    "    \"release_distance\",\n",
    "]\n",
    "\n",
    "tunnel_score_df.select(SORT_COLS + TUNNEL_COLS).head()"
   ]
  },
  {
   "cell_type": "code",
   "execution_count": 4,
   "metadata": {},
   "outputs": [
    {
     "data": {
      "text/html": [
       "<div><style>\n",
       ".dataframe > thead > tr,\n",
       ".dataframe > tbody > tr {\n",
       "  text-align: right;\n",
       "  white-space: pre-wrap;\n",
       "}\n",
       "</style>\n",
       "<small>shape: (5, 8)</small><table border=\"1\" class=\"dataframe\"><thead><tr><th>game_date</th><th>pitcher</th><th>at_bat_number</th><th>pitch_number</th><th>tunnel_distance</th><th>actual_distance</th><th>release_distance</th><th>tunnel_score</th></tr><tr><td>datetime[ns]</td><td>i64</td><td>i64</td><td>i64</td><td>f64</td><td>f64</td><td>f64</td><td>f64</td></tr></thead><tbody><tr><td>2024-09-02 00:00:00</td><td>687924</td><td>24</td><td>8</td><td>1.4796</td><td>2.51</td><td>0.3129</td><td>2.265709</td></tr><tr><td>2024-09-02 00:00:00</td><td>687924</td><td>24</td><td>7</td><td>2.3241</td><td>2.3776</td><td>0.0969</td><td>4.344858</td></tr><tr><td>2024-09-02 00:00:00</td><td>687924</td><td>24</td><td>6</td><td>13.2781</td><td>4.1104</td><td>0.0876</td><td>6.743292</td></tr><tr><td>2024-09-02 00:00:00</td><td>687924</td><td>24</td><td>5</td><td>7.3661</td><td>3.1025</td><td>0.1429</td><td>5.181169</td></tr><tr><td>2024-09-02 00:00:00</td><td>687924</td><td>24</td><td>4</td><td>4.6009</td><td>1.9689</td><td>0.1641</td><td>4.94414</td></tr></tbody></table></div>"
      ],
      "text/plain": [
       "shape: (5, 8)\n",
       "┌────────────┬─────────┬────────────┬────────────┬────────────┬────────────┬───────────┬───────────┐\n",
       "│ game_date  ┆ pitcher ┆ at_bat_num ┆ pitch_numb ┆ tunnel_dis ┆ actual_dis ┆ release_d ┆ tunnel_sc │\n",
       "│ ---        ┆ ---     ┆ ber        ┆ er         ┆ tance      ┆ tance      ┆ istance   ┆ ore       │\n",
       "│ datetime[n ┆ i64     ┆ ---        ┆ ---        ┆ ---        ┆ ---        ┆ ---       ┆ ---       │\n",
       "│ s]         ┆         ┆ i64        ┆ i64        ┆ f64        ┆ f64        ┆ f64       ┆ f64       │\n",
       "╞════════════╪═════════╪════════════╪════════════╪════════════╪════════════╪═══════════╪═══════════╡\n",
       "│ 2024-09-02 ┆ 687924  ┆ 24         ┆ 8          ┆ 1.4796     ┆ 2.51       ┆ 0.3129    ┆ 2.265709  │\n",
       "│ 00:00:00   ┆         ┆            ┆            ┆            ┆            ┆           ┆           │\n",
       "│ 2024-09-02 ┆ 687924  ┆ 24         ┆ 7          ┆ 2.3241     ┆ 2.3776     ┆ 0.0969    ┆ 4.344858  │\n",
       "│ 00:00:00   ┆         ┆            ┆            ┆            ┆            ┆           ┆           │\n",
       "│ 2024-09-02 ┆ 687924  ┆ 24         ┆ 6          ┆ 13.2781    ┆ 4.1104     ┆ 0.0876    ┆ 6.743292  │\n",
       "│ 00:00:00   ┆         ┆            ┆            ┆            ┆            ┆           ┆           │\n",
       "│ 2024-09-02 ┆ 687924  ┆ 24         ┆ 5          ┆ 7.3661     ┆ 3.1025     ┆ 0.1429    ┆ 5.181169  │\n",
       "│ 00:00:00   ┆         ┆            ┆            ┆            ┆            ┆           ┆           │\n",
       "│ 2024-09-02 ┆ 687924  ┆ 24         ┆ 4          ┆ 4.6009     ┆ 1.9689     ┆ 0.1641    ┆ 4.94414   │\n",
       "│ 00:00:00   ┆         ┆            ┆            ┆            ┆            ┆           ┆           │\n",
       "└────────────┴─────────┴────────────┴────────────┴────────────┴────────────┴───────────┴───────────┘"
      ]
     },
     "execution_count": 4,
     "metadata": {},
     "output_type": "execute_result"
    }
   ],
   "source": [
    "# now we can add tunnel score column using the tunnel_distance, actual_distance, and release_distance\n",
    "tunnel_score_df = tunnel_score_df.with_columns(\n",
    "    tunnel_score=(pl.col(\"tunnel_distance\") / pl.col(\"actual_distance\")) - pl.col(\"release_distance\").log(base=2),\n",
    ")\n",
    "\n",
    "TUNNEL_COLS += [\"tunnel_score\"]\n",
    "\n",
    "tunnel_score_df.select(SORT_COLS + TUNNEL_COLS).head()"
   ]
  },
  {
   "cell_type": "code",
   "execution_count": null,
   "metadata": {},
   "outputs": [],
   "source": []
  }
 ],
 "metadata": {
  "kernelspec": {
   "display_name": "venv",
   "language": "python",
   "name": "python3"
  },
  "language_info": {
   "codemirror_mode": {
    "name": "ipython",
    "version": 3
   },
   "file_extension": ".py",
   "mimetype": "text/x-python",
   "name": "python",
   "nbconvert_exporter": "python",
   "pygments_lexer": "ipython3",
   "version": "3.12.5"
  }
 },
 "nbformat": 4,
 "nbformat_minor": 2
}
