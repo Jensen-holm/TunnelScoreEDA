{
 "cells": [
  {
   "cell_type": "markdown",
   "metadata": {},
   "source": [
    "# Tunnel Score Exploratory Data Analysis\n",
    "\n",
    "Jensen Holm\n",
    "Sep. 2024"
   ]
  },
  {
   "cell_type": "code",
   "execution_count": 1,
   "metadata": {},
   "outputs": [
    {
     "name": "stdout",
     "output_type": "stream",
     "text": [
      "This is a large query, it may take a moment to complete\n",
      "Skipping offseason dates\n"
     ]
    },
    {
     "name": "stderr",
     "output_type": "stream",
     "text": [
      "100%|██████████| 174/174 [01:02<00:00,  2.78it/s]\n",
      "/Users/jensen/Documents/projects/TunnelScoreEDA/venv/lib/python3.12/site-packages/pybaseball/statcast.py:85: FutureWarning: The behavior of DataFrame concatenation with empty or all-NA entries is deprecated. In a future version, this will no longer exclude empty or all-NA columns when determining the result dtypes. To retain the old behavior, exclude the relevant entries before the concat operation.\n",
      "  final_data = pd.concat(dataframe_list, axis=0).convert_dtypes(convert_string=False)\n"
     ]
    },
    {
     "data": {
      "text/html": [
       "<div><style>\n",
       ".dataframe > thead > tr,\n",
       ".dataframe > tbody > tr {\n",
       "  text-align: right;\n",
       "  white-space: pre-wrap;\n",
       "}\n",
       "</style>\n",
       "<small>shape: (3, 94)</small><table border=\"1\" class=\"dataframe\"><thead><tr><th>pitch_type</th><th>game_date</th><th>release_speed</th><th>release_pos_x</th><th>release_pos_z</th><th>player_name</th><th>batter</th><th>pitcher</th><th>events</th><th>description</th><th>spin_dir</th><th>spin_rate_deprecated</th><th>break_angle_deprecated</th><th>break_length_deprecated</th><th>zone</th><th>des</th><th>game_type</th><th>stand</th><th>p_throws</th><th>home_team</th><th>away_team</th><th>type</th><th>hit_location</th><th>bb_type</th><th>balls</th><th>strikes</th><th>game_year</th><th>pfx_x</th><th>pfx_z</th><th>plate_x</th><th>plate_z</th><th>on_3b</th><th>on_2b</th><th>on_1b</th><th>outs_when_up</th><th>inning</th><th>inning_topbot</th><th>&hellip;</th><th>release_extension</th><th>game_pk</th><th>pitcher.1</th><th>fielder_2.1</th><th>fielder_3</th><th>fielder_4</th><th>fielder_5</th><th>fielder_6</th><th>fielder_7</th><th>fielder_8</th><th>fielder_9</th><th>release_pos_y</th><th>estimated_ba_using_speedangle</th><th>estimated_woba_using_speedangle</th><th>woba_value</th><th>woba_denom</th><th>babip_value</th><th>iso_value</th><th>launch_speed_angle</th><th>at_bat_number</th><th>pitch_number</th><th>pitch_name</th><th>home_score</th><th>away_score</th><th>bat_score</th><th>fld_score</th><th>post_away_score</th><th>post_home_score</th><th>post_bat_score</th><th>post_fld_score</th><th>if_fielding_alignment</th><th>of_fielding_alignment</th><th>spin_axis</th><th>delta_home_win_exp</th><th>delta_run_exp</th><th>bat_speed</th><th>swing_length</th></tr><tr><td>str</td><td>datetime[ns]</td><td>f64</td><td>f64</td><td>f64</td><td>str</td><td>i64</td><td>i64</td><td>str</td><td>str</td><td>i64</td><td>i64</td><td>i64</td><td>i64</td><td>i64</td><td>str</td><td>str</td><td>str</td><td>str</td><td>str</td><td>str</td><td>str</td><td>i64</td><td>str</td><td>i64</td><td>i64</td><td>i64</td><td>f64</td><td>f64</td><td>f64</td><td>f64</td><td>i64</td><td>i64</td><td>i64</td><td>i64</td><td>i64</td><td>str</td><td>&hellip;</td><td>f64</td><td>i64</td><td>i64</td><td>i64</td><td>i64</td><td>i64</td><td>i64</td><td>i64</td><td>i64</td><td>i64</td><td>i64</td><td>f64</td><td>f64</td><td>f64</td><td>f64</td><td>i64</td><td>i64</td><td>i64</td><td>i64</td><td>i64</td><td>i64</td><td>str</td><td>i64</td><td>i64</td><td>i64</td><td>i64</td><td>i64</td><td>i64</td><td>i64</td><td>i64</td><td>str</td><td>str</td><td>i64</td><td>f64</td><td>f64</td><td>f64</td><td>f64</td></tr></thead><tbody><tr><td>&quot;SI&quot;</td><td>2024-05-05 00:00:00</td><td>90.6</td><td>-1.24</td><td>5.14</td><td>&quot;Webb, Logan&quot;</td><td>592206</td><td>657277</td><td>&quot;single&quot;</td><td>&quot;hit_into_play&quot;</td><td>null</td><td>null</td><td>null</td><td>null</td><td>7</td><td>&quot;Nick Castellanos singles on a …</td><td>&quot;R&quot;</td><td>&quot;R&quot;</td><td>&quot;R&quot;</td><td>&quot;PHI&quot;</td><td>&quot;SF&quot;</td><td>&quot;X&quot;</td><td>7</td><td>&quot;line_drive&quot;</td><td>0</td><td>0</td><td>2024</td><td>-1.05</td><td>0.24</td><td>-0.64</td><td>2.19</td><td>null</td><td>null</td><td>null</td><td>2</td><td>3</td><td>&quot;Bot&quot;</td><td>&hellip;</td><td>6.9</td><td>745587</td><td>657277</td><td>666165</td><td>664774</td><td>642731</td><td>656305</td><td>605113</td><td>624424</td><td>808982</td><td>573262</td><td>53.6</td><td>0.837</td><td>0.821</td><td>0.9</td><td>1</td><td>1</td><td>0</td><td>5</td><td>27</td><td>1</td><td>&quot;Sinker&quot;</td><td>4</td><td>1</td><td>4</td><td>1</td><td>1</td><td>4</td><td>4</td><td>1</td><td>&quot;Standard&quot;</td><td>&quot;Standard&quot;</td><td>237</td><td>0.006</td><td>0.13</td><td>null</td><td>null</td></tr><tr><td>&quot;CH&quot;</td><td>2024-08-28 00:00:00</td><td>79.0</td><td>-1.71</td><td>6.73</td><td>&quot;Wacha, Michael&quot;</td><td>686823</td><td>608379</td><td>&quot;field_out&quot;</td><td>&quot;hit_into_play&quot;</td><td>null</td><td>null</td><td>null</td><td>null</td><td>13</td><td>&quot;Will Brennan lines out to cent…</td><td>&quot;R&quot;</td><td>&quot;L&quot;</td><td>&quot;R&quot;</td><td>&quot;CLE&quot;</td><td>&quot;KC&quot;</td><td>&quot;X&quot;</td><td>8</td><td>&quot;line_drive&quot;</td><td>0</td><td>1</td><td>2024</td><td>-1.43</td><td>0.0</td><td>-1.24</td><td>2.12</td><td>null</td><td>null</td><td>null</td><td>2</td><td>4</td><td>&quot;Bot&quot;</td><td>&hellip;</td><td>6.6</td><td>746589</td><td>608379</td><td>666023</td><td>686469</td><td>686681</td><td>657557</td><td>677951</td><td>669004</td><td>664728</td><td>624428</td><td>53.86</td><td>0.323</td><td>0.291</td><td>0.0</td><td>1</td><td>0</td><td>0</td><td>3</td><td>33</td><td>2</td><td>&quot;Changeup&quot;</td><td>1</td><td>3</td><td>1</td><td>3</td><td>3</td><td>1</td><td>1</td><td>3</td><td>&quot;Standard&quot;</td><td>&quot;Standard&quot;</td><td>250</td><td>-0.013</td><td>-0.085</td><td>62.40505</td><td>7.35537</td></tr><tr><td>&quot;SL&quot;</td><td>2024-07-06 00:00:00</td><td>83.1</td><td>1.12</td><td>5.8</td><td>&quot;Falter, Bailey&quot;</td><td>621438</td><td>663559</td><td>null</td><td>&quot;ball&quot;</td><td>null</td><td>null</td><td>null</td><td>null</td><td>11</td><td>&quot;Tyrone Taylor doubles (10) on …</td><td>&quot;R&quot;</td><td>&quot;R&quot;</td><td>&quot;L&quot;</td><td>&quot;PIT&quot;</td><td>&quot;NYM&quot;</td><td>&quot;B&quot;</td><td>null</td><td>null</td><td>1</td><td>1</td><td>2024</td><td>-0.51</td><td>0.21</td><td>-0.4</td><td>4.11</td><td>null</td><td>null</td><td>620443</td><td>0</td><td>2</td><td>&quot;Top&quot;</td><td>&hellip;</td><td>7.1</td><td>745476</td><td>663559</td><td>663698</td><td>656582</td><td>693304</td><td>663647</td><td>665833</td><td>668804</td><td>572191</td><td>641943</td><td>53.36</td><td>null</td><td>null</td><td>null</td><td>null</td><td>null</td><td>null</td><td>null</td><td>10</td><td>3</td><td>&quot;Slider&quot;</td><td>0</td><td>0</td><td>0</td><td>0</td><td>0</td><td>0</td><td>0</td><td>0</td><td>&quot;Standard&quot;</td><td>&quot;Standard&quot;</td><td>218</td><td>0.0</td><td>0.066</td><td>null</td><td>null</td></tr></tbody></table></div>"
      ],
      "text/plain": [
       "shape: (3, 94)\n",
       "┌───────────┬───────────┬───────────┬───────────┬───┬───────────┬───────────┬───────────┬──────────┐\n",
       "│ pitch_typ ┆ game_date ┆ release_s ┆ release_p ┆ … ┆ delta_hom ┆ delta_run ┆ bat_speed ┆ swing_le │\n",
       "│ e         ┆ ---       ┆ peed      ┆ os_x      ┆   ┆ e_win_exp ┆ _exp      ┆ ---       ┆ ngth     │\n",
       "│ ---       ┆ datetime[ ┆ ---       ┆ ---       ┆   ┆ ---       ┆ ---       ┆ f64       ┆ ---      │\n",
       "│ str       ┆ ns]       ┆ f64       ┆ f64       ┆   ┆ f64       ┆ f64       ┆           ┆ f64      │\n",
       "╞═══════════╪═══════════╪═══════════╪═══════════╪═══╪═══════════╪═══════════╪═══════════╪══════════╡\n",
       "│ SI        ┆ 2024-05-0 ┆ 90.6      ┆ -1.24     ┆ … ┆ 0.006     ┆ 0.13      ┆ null      ┆ null     │\n",
       "│           ┆ 5         ┆           ┆           ┆   ┆           ┆           ┆           ┆          │\n",
       "│           ┆ 00:00:00  ┆           ┆           ┆   ┆           ┆           ┆           ┆          │\n",
       "│ CH        ┆ 2024-08-2 ┆ 79.0      ┆ -1.71     ┆ … ┆ -0.013    ┆ -0.085    ┆ 62.40505  ┆ 7.35537  │\n",
       "│           ┆ 8         ┆           ┆           ┆   ┆           ┆           ┆           ┆          │\n",
       "│           ┆ 00:00:00  ┆           ┆           ┆   ┆           ┆           ┆           ┆          │\n",
       "│ SL        ┆ 2024-07-0 ┆ 83.1      ┆ 1.12      ┆ … ┆ 0.0       ┆ 0.066     ┆ null      ┆ null     │\n",
       "│           ┆ 6         ┆           ┆           ┆   ┆           ┆           ┆           ┆          │\n",
       "│           ┆ 00:00:00  ┆           ┆           ┆   ┆           ┆           ┆           ┆          │\n",
       "└───────────┴───────────┴───────────┴───────────┴───┴───────────┴───────────┴───────────┴──────────┘"
      ]
     },
     "execution_count": 1,
     "metadata": {},
     "output_type": "execute_result"
    }
   ],
   "source": [
    "import polars as pl\n",
    "import datetime\n",
    "import pybaseball\n",
    "from pybaseball import cache\n",
    "\n",
    "from utils import pl_euclidean_distance\n",
    "\n",
    "cache.enable()\n",
    "\n",
    "orig_df = pl.from_pandas(\n",
    "    pybaseball.statcast(\n",
    "        start_dt=\"2024-03-01\",\n",
    "        end_dt=datetime.datetime.today().strftime(\"%Y-%m-%d\"),\n",
    "    )\n",
    ")\n",
    "\n",
    "orig_df.sample(3, seed=1)"
   ]
  },
  {
   "cell_type": "markdown",
   "metadata": {},
   "source": [
    "## Tying pitches to their previous ones\n",
    "\n",
    "This will allow us to compare each pitch to the one before it, giving us the ability to calculate tunnel score."
   ]
  },
  {
   "cell_type": "code",
   "execution_count": 2,
   "metadata": {},
   "outputs": [
    {
     "data": {
      "text/html": [
       "<div><style>\n",
       ".dataframe > thead > tr,\n",
       ".dataframe > tbody > tr {\n",
       "  text-align: right;\n",
       "  white-space: pre-wrap;\n",
       "}\n",
       "</style>\n",
       "<small>shape: (5, 4)</small><table border=\"1\" class=\"dataframe\"><thead><tr><th>game_date</th><th>pitcher</th><th>at_bat_number</th><th>pitch_number</th></tr><tr><td>datetime[ns]</td><td>i64</td><td>i64</td><td>i64</td></tr></thead><tbody><tr><td>2024-05-05 00:00:00</td><td>641482</td><td>8</td><td>6</td></tr><tr><td>2024-08-28 00:00:00</td><td>674370</td><td>49</td><td>2</td></tr><tr><td>2024-08-05 00:00:00</td><td>605400</td><td>36</td><td>2</td></tr><tr><td>2024-07-06 00:00:00</td><td>608344</td><td>63</td><td>3</td></tr><tr><td>2024-06-14 00:00:00</td><td>640455</td><td>10</td><td>2</td></tr></tbody></table></div>"
      ],
      "text/plain": [
       "shape: (5, 4)\n",
       "┌─────────────────────┬─────────┬───────────────┬──────────────┐\n",
       "│ game_date           ┆ pitcher ┆ at_bat_number ┆ pitch_number │\n",
       "│ ---                 ┆ ---     ┆ ---           ┆ ---          │\n",
       "│ datetime[ns]        ┆ i64     ┆ i64           ┆ i64          │\n",
       "╞═════════════════════╪═════════╪═══════════════╪══════════════╡\n",
       "│ 2024-05-05 00:00:00 ┆ 641482  ┆ 8             ┆ 6            │\n",
       "│ 2024-08-28 00:00:00 ┆ 674370  ┆ 49            ┆ 2            │\n",
       "│ 2024-08-05 00:00:00 ┆ 605400  ┆ 36            ┆ 2            │\n",
       "│ 2024-07-06 00:00:00 ┆ 608344  ┆ 63            ┆ 3            │\n",
       "│ 2024-06-14 00:00:00 ┆ 640455  ┆ 10            ┆ 2            │\n",
       "└─────────────────────┴─────────┴───────────────┴──────────────┘"
      ]
     },
     "execution_count": 2,
     "metadata": {},
     "output_type": "execute_result"
    }
   ],
   "source": [
    "# first we need to sort all the pitches\n",
    "\n",
    "SORT_COLS = [\n",
    "    \"game_date\",\n",
    "    \"pitcher\",\n",
    "    \"at_bat_number\",\n",
    "    \"pitch_number\",\n",
    "]\n",
    "\n",
    "shifted_df = orig_df.sort(SORT_COLS, descending=True)\n",
    "\n",
    "OVER_COLS = [\"at_bat_number\", \"pitcher\"]\n",
    "# now we can shift the data by one row to get the previous pitch data for each pitch in one row\n",
    "for col_name in shifted_df.columns:\n",
    "    shifted_df = shifted_df.with_columns(\n",
    "        pl.col(col_name).shift(-1).over(OVER_COLS).alias(f\"prev_{col_name}\")\n",
    "    )\n",
    "\n",
    "shifted_df.select(SORT_COLS).sample(5, seed=1)"
   ]
  },
  {
   "cell_type": "markdown",
   "metadata": {},
   "source": [
    "## Adding Tunnel Score\n",
    "\n",
    "```math\n",
    "TunnelScore = log_{2}( (\\frac{TunnelDistance}{ActualDistance}) - ReleaseDistance)\n",
    "```\n",
    "\n",
    "Where ...\n",
    "\n",
    "**ReleaseDistance** = euclidean distance between the release points of current pitch and the previous pitch\n",
    "\n",
    "**ActualDistance** = euclidean distance between where the current pitch ended up over the plate, and the previous pitch \n",
    "\n",
    "**TunnelDistance** = euclidean distance between where the current pitch would have ended up without movement, and the same for the previous pitch \n"
   ]
  },
  {
   "cell_type": "code",
   "execution_count": 3,
   "metadata": {},
   "outputs": [
    {
     "data": {
      "text/html": [
       "<div><style>\n",
       ".dataframe > thead > tr,\n",
       ".dataframe > tbody > tr {\n",
       "  text-align: right;\n",
       "  white-space: pre-wrap;\n",
       "}\n",
       "</style>\n",
       "<small>shape: (5, 7)</small><table border=\"1\" class=\"dataframe\"><thead><tr><th>game_date</th><th>pitcher</th><th>at_bat_number</th><th>pitch_number</th><th>tunnel_distance</th><th>actual_distance</th><th>release_distance</th></tr><tr><td>datetime[ns]</td><td>i64</td><td>i64</td><td>i64</td><td>f64</td><td>f64</td><td>f64</td></tr></thead><tbody><tr><td>2024-05-05 00:00:00</td><td>641482</td><td>8</td><td>6</td><td>0.6776</td><td>4.8204</td><td>4.9825</td></tr><tr><td>2024-08-28 00:00:00</td><td>674370</td><td>49</td><td>2</td><td>4.9544</td><td>5.5</td><td>0.0309</td></tr><tr><td>2024-08-05 00:00:00</td><td>605400</td><td>36</td><td>2</td><td>1.2425</td><td>1.4825</td><td>0.0209</td></tr><tr><td>2024-07-06 00:00:00</td><td>608344</td><td>63</td><td>3</td><td>1.8396</td><td>2.2741</td><td>0.17</td></tr><tr><td>2024-06-14 00:00:00</td><td>640455</td><td>10</td><td>2</td><td>0.79</td><td>0.6729</td><td>0.0556</td></tr></tbody></table></div>"
      ],
      "text/plain": [
       "shape: (5, 7)\n",
       "┌──────────────┬─────────┬──────────────┬──────────────┬──────────────┬──────────────┬─────────────┐\n",
       "│ game_date    ┆ pitcher ┆ at_bat_numbe ┆ pitch_number ┆ tunnel_dista ┆ actual_dista ┆ release_dis │\n",
       "│ ---          ┆ ---     ┆ r            ┆ ---          ┆ nce          ┆ nce          ┆ tance       │\n",
       "│ datetime[ns] ┆ i64     ┆ ---          ┆ i64          ┆ ---          ┆ ---          ┆ ---         │\n",
       "│              ┆         ┆ i64          ┆              ┆ f64          ┆ f64          ┆ f64         │\n",
       "╞══════════════╪═════════╪══════════════╪══════════════╪══════════════╪══════════════╪═════════════╡\n",
       "│ 2024-05-05   ┆ 641482  ┆ 8            ┆ 6            ┆ 0.6776       ┆ 4.8204       ┆ 4.9825      │\n",
       "│ 00:00:00     ┆         ┆              ┆              ┆              ┆              ┆             │\n",
       "│ 2024-08-28   ┆ 674370  ┆ 49           ┆ 2            ┆ 4.9544       ┆ 5.5          ┆ 0.0309      │\n",
       "│ 00:00:00     ┆         ┆              ┆              ┆              ┆              ┆             │\n",
       "│ 2024-08-05   ┆ 605400  ┆ 36           ┆ 2            ┆ 1.2425       ┆ 1.4825       ┆ 0.0209      │\n",
       "│ 00:00:00     ┆         ┆              ┆              ┆              ┆              ┆             │\n",
       "│ 2024-07-06   ┆ 608344  ┆ 63           ┆ 3            ┆ 1.8396       ┆ 2.2741       ┆ 0.17        │\n",
       "│ 00:00:00     ┆         ┆              ┆              ┆              ┆              ┆             │\n",
       "│ 2024-06-14   ┆ 640455  ┆ 10           ┆ 2            ┆ 0.79         ┆ 0.6729       ┆ 0.0556      │\n",
       "│ 00:00:00     ┆         ┆              ┆              ┆              ┆              ┆             │\n",
       "└──────────────┴─────────┴──────────────┴──────────────┴──────────────┴──────────────┴─────────────┘"
      ]
     },
     "execution_count": 3,
     "metadata": {},
     "output_type": "execute_result"
    }
   ],
   "source": [
    "# compute where the pitch and the previous one would have been if they had no movement\n",
    "tunnel_distance_df: pl.DataFrame = shifted_df.with_columns(\n",
    "    plate_x_no_move=pl.col(\"plate_x\")\n",
    "    - pl.col(\"pfx_x\"),  # x coord of the pitch if it had no movement\n",
    "    plate_z_no_move=pl.col(\"plate_z\")\n",
    "    - pl.col(\"pfx_z\"),  # z coord of the pitch if it had no movement\n",
    "    prev_plate_x_no_move=pl.col(\"prev_plate_x\")\n",
    "    - pl.col(\"prev_pfx_x\"),  # x coord of the previous pitch if it had no movement\n",
    "    prev_plate_z_no_move=pl.col(\"prev_plate_z\")\n",
    "    - pl.col(\"prev_pfx_z\"),  # z coord of the previous pitch if it had no movement\n",
    ")\n",
    "\n",
    "tunnel_cols_df: pl.DataFrame = tunnel_distance_df.with_columns(\n",
    "    # tunnel_distance is the distance between the pitch and the previous pitch if they had no movement\n",
    "    tunnel_distance=pl_euclidean_distance(\n",
    "        x1=pl.col(\"plate_x_no_move\"),\n",
    "        y1=pl.col(\"plate_z_no_move\"),\n",
    "        x2=pl.col(\"prev_plate_x_no_move\"),\n",
    "        y2=pl.col(\"prev_plate_z_no_move\"),\n",
    "    ),\n",
    "    # actual_distance is the distance between the pitch and the previous pitch\n",
    "    actual_distance=pl_euclidean_distance(\n",
    "        x1=pl.col(\"plate_x\"),\n",
    "        y1=pl.col(\"plate_z\"),\n",
    "        x2=pl.col(\"prev_plate_x\"),\n",
    "        y2=pl.col(\"prev_plate_z\"),\n",
    "    ),\n",
    "    # release_distance is the distance between the release point of the pitch and the previous pitch\n",
    "    release_distance=pl_euclidean_distance(\n",
    "        x1=pl.col(\"release_pos_x\"),\n",
    "        y1=pl.col(\"release_pos_z\"),\n",
    "        x2=pl.col(\"prev_release_pos_x\"),\n",
    "        y2=pl.col(\"prev_release_pos_z\"),\n",
    "    ),\n",
    ")\n",
    "\n",
    "TUNNEL_COLS = [\n",
    "    \"tunnel_distance\",\n",
    "    \"actual_distance\",\n",
    "    \"release_distance\",\n",
    "]\n",
    "\n",
    "tunnel_cols_df.select(SORT_COLS + TUNNEL_COLS).sample(5, seed=1)"
   ]
  },
  {
   "cell_type": "code",
   "execution_count": 4,
   "metadata": {},
   "outputs": [
    {
     "name": "stdout",
     "output_type": "stream",
     "text": [
      "shape of dataframe with tunnel score: (592197, 196)\n"
     ]
    },
    {
     "data": {
      "text/html": [
       "<div><style>\n",
       ".dataframe > thead > tr,\n",
       ".dataframe > tbody > tr {\n",
       "  text-align: right;\n",
       "  white-space: pre-wrap;\n",
       "}\n",
       "</style>\n",
       "<small>shape: (592_197, 9)</small><table border=\"1\" class=\"dataframe\"><thead><tr><th>game_date</th><th>pitcher</th><th>at_bat_number</th><th>pitch_number</th><th>tunnel_distance</th><th>actual_distance</th><th>release_distance</th><th>tunnel_score</th><th>player_name</th></tr><tr><td>datetime[ns]</td><td>i64</td><td>i64</td><td>i64</td><td>f64</td><td>f64</td><td>f64</td><td>f64</td><td>str</td></tr></thead><tbody><tr><td>2024-09-03 00:00:00</td><td>701581</td><td>42</td><td>7</td><td>0.0725</td><td>1.8141</td><td>0.3061</td><td>1.74789</td><td>&quot;Festa, David&quot;</td></tr><tr><td>2024-09-03 00:00:00</td><td>701581</td><td>42</td><td>6</td><td>3.7461</td><td>3.7076</td><td>0.2744</td><td>2.876032</td><td>&quot;Festa, David&quot;</td></tr><tr><td>2024-09-03 00:00:00</td><td>701581</td><td>42</td><td>5</td><td>2.3169</td><td>3.3069</td><td>0.1816</td><td>3.16179</td><td>&quot;Festa, David&quot;</td></tr><tr><td>2024-09-03 00:00:00</td><td>701581</td><td>42</td><td>4</td><td>0.6301</td><td>0.5904</td><td>0.0516</td><td>5.343728</td><td>&quot;Festa, David&quot;</td></tr><tr><td>2024-09-03 00:00:00</td><td>701581</td><td>42</td><td>3</td><td>3.0436</td><td>3.19</td><td>0.15</td><td>3.691072</td><td>&quot;Festa, David&quot;</td></tr><tr><td>&hellip;</td><td>&hellip;</td><td>&hellip;</td><td>&hellip;</td><td>&hellip;</td><td>&hellip;</td><td>&hellip;</td><td>&hellip;</td><td>&hellip;</td></tr><tr><td>2024-03-15 00:00:00</td><td>516853</td><td>78</td><td>2</td><td>2.79</td><td>1.6541</td><td>0.2524</td><td>3.672934</td><td>&quot;Rodríguez, Wilking&quot;</td></tr><tr><td>2024-03-15 00:00:00</td><td>516853</td><td>77</td><td>5</td><td>0.7269</td><td>3.1725</td><td>0.1549</td><td>2.919716</td><td>&quot;Rodríguez, Wilking&quot;</td></tr><tr><td>2024-03-15 00:00:00</td><td>516853</td><td>77</td><td>4</td><td>1.3629</td><td>1.8276</td><td>0.1241</td><td>3.756157</td><td>&quot;Rodríguez, Wilking&quot;</td></tr><tr><td>2024-03-15 00:00:00</td><td>516853</td><td>77</td><td>3</td><td>0.7725</td><td>0.7901</td><td>0.2024</td><td>3.282443</td><td>&quot;Rodríguez, Wilking&quot;</td></tr><tr><td>2024-03-15 00:00:00</td><td>516853</td><td>77</td><td>2</td><td>2.8356</td><td>1.4436</td><td>0.1756</td><td>4.473891</td><td>&quot;Rodríguez, Wilking&quot;</td></tr></tbody></table></div>"
      ],
      "text/plain": [
       "shape: (592_197, 9)\n",
       "┌────────────┬─────────┬───────────┬───────────┬───┬───────────┬───────────┬───────────┬───────────┐\n",
       "│ game_date  ┆ pitcher ┆ at_bat_nu ┆ pitch_num ┆ … ┆ actual_di ┆ release_d ┆ tunnel_sc ┆ player_na │\n",
       "│ ---        ┆ ---     ┆ mber      ┆ ber       ┆   ┆ stance    ┆ istance   ┆ ore       ┆ me        │\n",
       "│ datetime[n ┆ i64     ┆ ---       ┆ ---       ┆   ┆ ---       ┆ ---       ┆ ---       ┆ ---       │\n",
       "│ s]         ┆         ┆ i64       ┆ i64       ┆   ┆ f64       ┆ f64       ┆ f64       ┆ str       │\n",
       "╞════════════╪═════════╪═══════════╪═══════════╪═══╪═══════════╪═══════════╪═══════════╪═══════════╡\n",
       "│ 2024-09-03 ┆ 701581  ┆ 42        ┆ 7         ┆ … ┆ 1.8141    ┆ 0.3061    ┆ 1.74789   ┆ Festa,    │\n",
       "│ 00:00:00   ┆         ┆           ┆           ┆   ┆           ┆           ┆           ┆ David     │\n",
       "│ 2024-09-03 ┆ 701581  ┆ 42        ┆ 6         ┆ … ┆ 3.7076    ┆ 0.2744    ┆ 2.876032  ┆ Festa,    │\n",
       "│ 00:00:00   ┆         ┆           ┆           ┆   ┆           ┆           ┆           ┆ David     │\n",
       "│ 2024-09-03 ┆ 701581  ┆ 42        ┆ 5         ┆ … ┆ 3.3069    ┆ 0.1816    ┆ 3.16179   ┆ Festa,    │\n",
       "│ 00:00:00   ┆         ┆           ┆           ┆   ┆           ┆           ┆           ┆ David     │\n",
       "│ 2024-09-03 ┆ 701581  ┆ 42        ┆ 4         ┆ … ┆ 0.5904    ┆ 0.0516    ┆ 5.343728  ┆ Festa,    │\n",
       "│ 00:00:00   ┆         ┆           ┆           ┆   ┆           ┆           ┆           ┆ David     │\n",
       "│ 2024-09-03 ┆ 701581  ┆ 42        ┆ 3         ┆ … ┆ 3.19      ┆ 0.15      ┆ 3.691072  ┆ Festa,    │\n",
       "│ 00:00:00   ┆         ┆           ┆           ┆   ┆           ┆           ┆           ┆ David     │\n",
       "│ …          ┆ …       ┆ …         ┆ …         ┆ … ┆ …         ┆ …         ┆ …         ┆ …         │\n",
       "│ 2024-03-15 ┆ 516853  ┆ 78        ┆ 2         ┆ … ┆ 1.6541    ┆ 0.2524    ┆ 3.672934  ┆ Rodríguez │\n",
       "│ 00:00:00   ┆         ┆           ┆           ┆   ┆           ┆           ┆           ┆ , Wilking │\n",
       "│ 2024-03-15 ┆ 516853  ┆ 77        ┆ 5         ┆ … ┆ 3.1725    ┆ 0.1549    ┆ 2.919716  ┆ Rodríguez │\n",
       "│ 00:00:00   ┆         ┆           ┆           ┆   ┆           ┆           ┆           ┆ , Wilking │\n",
       "│ 2024-03-15 ┆ 516853  ┆ 77        ┆ 4         ┆ … ┆ 1.8276    ┆ 0.1241    ┆ 3.756157  ┆ Rodríguez │\n",
       "│ 00:00:00   ┆         ┆           ┆           ┆   ┆           ┆           ┆           ┆ , Wilking │\n",
       "│ 2024-03-15 ┆ 516853  ┆ 77        ┆ 3         ┆ … ┆ 0.7901    ┆ 0.2024    ┆ 3.282443  ┆ Rodríguez │\n",
       "│ 00:00:00   ┆         ┆           ┆           ┆   ┆           ┆           ┆           ┆ , Wilking │\n",
       "│ 2024-03-15 ┆ 516853  ┆ 77        ┆ 2         ┆ … ┆ 1.4436    ┆ 0.1756    ┆ 4.473891  ┆ Rodríguez │\n",
       "│ 00:00:00   ┆         ┆           ┆           ┆   ┆           ┆           ┆           ┆ , Wilking │\n",
       "└────────────┴─────────┴───────────┴───────────┴───┴───────────┴───────────┴───────────┴───────────┘"
      ]
     },
     "execution_count": 4,
     "metadata": {},
     "output_type": "execute_result"
    }
   ],
   "source": [
    "# now we can add tunnel score column using the tunnel_distance, actual_distance, and release_distance\n",
    "\n",
    "# adding this if statement to avoid adding the same column multiple times\n",
    "# because the nature of jupyter notebooks\n",
    "if \"tunnel_score\" not in TUNNEL_COLS:\n",
    "    TUNNEL_COLS.append(\"tunnel_score\")\n",
    "\n",
    "tunnel_score_df = tunnel_cols_df.with_columns(\n",
    "    tunnel_score=(pl.col(\"tunnel_distance\") / pl.col(\"actual_distance\"))\n",
    "    - pl.col(\"release_distance\").log(base=2),\n",
    ").drop_nulls(subset=TUNNEL_COLS)\n",
    "\n",
    "print(f\"shape of dataframe with tunnel score: {tunnel_score_df.shape}\")\n",
    "tunnel_score_df.select(SORT_COLS + TUNNEL_COLS + [\"player_name\"])"
   ]
  },
  {
   "cell_type": "markdown",
   "metadata": {},
   "source": [
    "## Explore Tunnel Score relationships on AB level\n",
    "\n",
    "Interested to see if there is a strong relationship between AB's that had at least one pitch with high tunnel score, and getting an out."
   ]
  },
  {
   "cell_type": "code",
   "execution_count": null,
   "metadata": {},
   "outputs": [],
   "source": []
  },
  {
   "cell_type": "markdown",
   "metadata": {},
   "source": [
    "## Joining with FanGraphs data\n",
    "\n",
    "I am interested to see if at bats with a high avg, median, max, tunnel score have a relationship with good results for the pitcher. Currently the data we have is just statcast pitch level data, so I am going to join it with season summary data from fangraphs and aggregate tunnel score metrics."
   ]
  },
  {
   "cell_type": "code",
   "execution_count": 5,
   "metadata": {},
   "outputs": [
    {
     "data": {
      "text/html": [
       "<div><style>\n",
       ".dataframe > thead > tr,\n",
       ".dataframe > tbody > tr {\n",
       "  text-align: right;\n",
       "  white-space: pre-wrap;\n",
       "}\n",
       "</style>\n",
       "<small>shape: (5, 400)</small><table border=\"1\" class=\"dataframe\"><thead><tr><th>IDfg</th><th>Season</th><th>Name</th><th>Team</th><th>Age</th><th>W</th><th>L</th><th>WAR</th><th>ERA</th><th>G</th><th>GS</th><th>CG</th><th>ShO</th><th>SV</th><th>BS</th><th>IP</th><th>TBF</th><th>H</th><th>R</th><th>ER</th><th>HR</th><th>BB</th><th>IBB</th><th>HBP</th><th>WP</th><th>BK</th><th>SO</th><th>GB</th><th>FB</th><th>LD</th><th>IFFB</th><th>Balls</th><th>Strikes</th><th>Pitches</th><th>RS</th><th>IFH</th><th>BU</th><th>&hellip;</th><th>Stf+ CH</th><th>Loc+ CH</th><th>Pit+ CH</th><th>Stf+ CU</th><th>Loc+ CU</th><th>Pit+ CU</th><th>Stf+ FA</th><th>Loc+ FA</th><th>Pit+ FA</th><th>Stf+ SI</th><th>Loc+ SI</th><th>Pit+ SI</th><th>Stf+ SL</th><th>Loc+ SL</th><th>Pit+ SL</th><th>Stf+ KC</th><th>Loc+ KC</th><th>Pit+ KC</th><th>Stf+ FC</th><th>Loc+ FC</th><th>Pit+ FC</th><th>Stf+ FS</th><th>Loc+ FS</th><th>Pit+ FS</th><th>Stuff+</th><th>Location+</th><th>Pitching+</th><th>Stf+ FO</th><th>Loc+ FO</th><th>Pit+ FO</th><th>name_last</th><th>name_first</th><th>key_mlbam</th><th>key_retro</th><th>key_bbref</th><th>mlb_played_first</th><th>mlb_played_last</th></tr><tr><td>i64</td><td>i64</td><td>str</td><td>str</td><td>i64</td><td>i64</td><td>i64</td><td>f64</td><td>f64</td><td>i64</td><td>i64</td><td>i64</td><td>i64</td><td>i64</td><td>i64</td><td>f64</td><td>i64</td><td>i64</td><td>i64</td><td>i64</td><td>i64</td><td>i64</td><td>i64</td><td>i64</td><td>i64</td><td>i64</td><td>i64</td><td>i64</td><td>i64</td><td>i64</td><td>i64</td><td>i64</td><td>i64</td><td>i64</td><td>i64</td><td>i64</td><td>i64</td><td>&hellip;</td><td>f64</td><td>f64</td><td>f64</td><td>f64</td><td>f64</td><td>f64</td><td>f64</td><td>f64</td><td>f64</td><td>f64</td><td>f64</td><td>f64</td><td>f64</td><td>f64</td><td>f64</td><td>f64</td><td>f64</td><td>f64</td><td>f64</td><td>f64</td><td>f64</td><td>f64</td><td>f64</td><td>f64</td><td>i64</td><td>i64</td><td>i64</td><td>f64</td><td>f64</td><td>f64</td><td>str</td><td>str</td><td>i64</td><td>str</td><td>str</td><td>f64</td><td>f64</td></tr></thead><tbody><tr><td>9803</td><td>2024</td><td>&quot;Miles Mikolas&quot;</td><td>&quot;STL&quot;</td><td>35</td><td>8</td><td>10</td><td>1.9</td><td>5.27</td><td>28</td><td>28</td><td>0</td><td>0</td><td>0</td><td>0</td><td>153.2</td><td>642</td><td>171</td><td>93</td><td>90</td><td>22</td><td>24</td><td>0</td><td>3</td><td>0</td><td>1</td><td>107</td><td>216</td><td>181</td><td>108</td><td>19</td><td>770</td><td>1636</td><td>2406</td><td>73</td><td>15</td><td>2</td><td>&hellip;</td><td>86.0</td><td>103.0</td><td>98.0</td><td>96.0</td><td>108.0</td><td>105.0</td><td>66.0</td><td>107.0</td><td>97.0</td><td>83.0</td><td>110.0</td><td>98.0</td><td>116.0</td><td>111.0</td><td>114.0</td><td>null</td><td>null</td><td>null</td><td>null</td><td>null</td><td>null</td><td>null</td><td>null</td><td>null</td><td>89</td><td>108</td><td>102</td><td>null</td><td>null</td><td>null</td><td>&quot;mikolas&quot;</td><td>&quot;miles&quot;</td><td>571945</td><td>&quot;mikom001&quot;</td><td>&quot;mikolmi01&quot;</td><td>2012.0</td><td>2024.0</td></tr><tr><td>10310</td><td>2024</td><td>&quot;Zack Wheeler&quot;</td><td>&quot;PHI&quot;</td><td>34</td><td>13</td><td>6</td><td>4.4</td><td>2.63</td><td>27</td><td>27</td><td>0</td><td>0</td><td>0</td><td>0</td><td>167.2</td><td>665</td><td>119</td><td>54</td><td>49</td><td>17</td><td>45</td><td>0</td><td>8</td><td>8</td><td>0</td><td>183</td><td>180</td><td>167</td><td>80</td><td>25</td><td>924</td><td>1735</td><td>2659</td><td>96</td><td>11</td><td>2</td><td>&hellip;</td><td>null</td><td>null</td><td>null</td><td>111.0</td><td>101.0</td><td>107.0</td><td>100.0</td><td>107.0</td><td>110.0</td><td>111.0</td><td>103.0</td><td>108.0</td><td>128.0</td><td>107.0</td><td>116.0</td><td>null</td><td>null</td><td>null</td><td>92.0</td><td>97.0</td><td>95.0</td><td>95.0</td><td>107.0</td><td>107.0</td><td>105</td><td>105</td><td>108</td><td>null</td><td>null</td><td>null</td><td>&quot;wheeler&quot;</td><td>&quot;zack&quot;</td><td>554430</td><td>&quot;wheez001&quot;</td><td>&quot;wheelza01&quot;</td><td>2013.0</td><td>2024.0</td></tr><tr><td>19879</td><td>2024</td><td>&quot;Tanner Houck&quot;</td><td>&quot;BOS&quot;</td><td>28</td><td>8</td><td>9</td><td>3.6</td><td>3.12</td><td>27</td><td>27</td><td>1</td><td>1</td><td>0</td><td>0</td><td>164.2</td><td>689</td><td>146</td><td>70</td><td>57</td><td>10</td><td>46</td><td>1</td><td>15</td><td>2</td><td>0</td><td>143</td><td>268</td><td>116</td><td>98</td><td>6</td><td>857</td><td>1678</td><td>2535</td><td>101</td><td>14</td><td>2</td><td>&hellip;</td><td>null</td><td>null</td><td>null</td><td>null</td><td>null</td><td>null</td><td>null</td><td>null</td><td>null</td><td>93.0</td><td>102.0</td><td>96.0</td><td>117.0</td><td>98.0</td><td>109.0</td><td>null</td><td>null</td><td>null</td><td>95.0</td><td>93.0</td><td>93.0</td><td>116.0</td><td>103.0</td><td>110.0</td><td>109</td><td>101</td><td>105</td><td>null</td><td>null</td><td>null</td><td>&quot;houck&quot;</td><td>&quot;tanner&quot;</td><td>656557</td><td>&quot;houct001&quot;</td><td>&quot;houckta01&quot;</td><td>2020.0</td><td>2024.0</td></tr><tr><td>16149</td><td>2024</td><td>&quot;Aaron Nola&quot;</td><td>&quot;PHI&quot;</td><td>31</td><td>12</td><td>6</td><td>2.9</td><td>3.29</td><td>28</td><td>28</td><td>1</td><td>1</td><td>0</td><td>0</td><td>172.1</td><td>700</td><td>155</td><td>67</td><td>63</td><td>24</td><td>43</td><td>0</td><td>3</td><td>2</td><td>0</td><td>162</td><td>215</td><td>169</td><td>107</td><td>14</td><td>929</td><td>1778</td><td>2707</td><td>109</td><td>10</td><td>1</td><td>&hellip;</td><td>79.0</td><td>102.0</td><td>90.0</td><td>null</td><td>null</td><td>null</td><td>90.0</td><td>103.0</td><td>99.0</td><td>100.0</td><td>111.0</td><td>108.0</td><td>null</td><td>null</td><td>null</td><td>135.0</td><td>107.0</td><td>114.0</td><td>69.0</td><td>98.0</td><td>92.0</td><td>null</td><td>null</td><td>null</td><td>104</td><td>105</td><td>104</td><td>null</td><td>null</td><td>null</td><td>&quot;nola&quot;</td><td>&quot;aaron&quot;</td><td>605400</td><td>&quot;nolaa001&quot;</td><td>&quot;nolaaa01&quot;</td><td>2015.0</td><td>2024.0</td></tr><tr><td>9132</td><td>2024</td><td>&quot;Nathan Eovaldi&quot;</td><td>&quot;TEX&quot;</td><td>34</td><td>10</td><td>7</td><td>2.6</td><td>3.6</td><td>24</td><td>24</td><td>0</td><td>0</td><td>0</td><td>0</td><td>140.0</td><td>564</td><td>117</td><td>57</td><td>56</td><td>18</td><td>32</td><td>0</td><td>6</td><td>3</td><td>0</td><td>138</td><td>191</td><td>119</td><td>76</td><td>9</td><td>693</td><td>1463</td><td>2156</td><td>75</td><td>6</td><td>2</td><td>&hellip;</td><td>null</td><td>null</td><td>null</td><td>101.0</td><td>103.0</td><td>104.0</td><td>75.0</td><td>106.0</td><td>99.0</td><td>null</td><td>null</td><td>null</td><td>115.0</td><td>100.0</td><td>103.0</td><td>null</td><td>null</td><td>null</td><td>91.0</td><td>107.0</td><td>98.0</td><td>127.0</td><td>102.0</td><td>111.0</td><td>98</td><td>105</td><td>104</td><td>null</td><td>null</td><td>null</td><td>&quot;eovaldi&quot;</td><td>&quot;nathan&quot;</td><td>543135</td><td>&quot;eovan001&quot;</td><td>&quot;eovalna01&quot;</td><td>2011.0</td><td>2024.0</td></tr></tbody></table></div>"
      ],
      "text/plain": [
       "shape: (5, 400)\n",
       "┌───────┬────────┬───────────────┬──────┬───┬───────────┬───────────┬───────────────┬──────────────┐\n",
       "│ IDfg  ┆ Season ┆ Name          ┆ Team ┆ … ┆ key_retro ┆ key_bbref ┆ mlb_played_fi ┆ mlb_played_l │\n",
       "│ ---   ┆ ---    ┆ ---           ┆ ---  ┆   ┆ ---       ┆ ---       ┆ rst           ┆ ast          │\n",
       "│ i64   ┆ i64    ┆ str           ┆ str  ┆   ┆ str       ┆ str       ┆ ---           ┆ ---          │\n",
       "│       ┆        ┆               ┆      ┆   ┆           ┆           ┆ f64           ┆ f64          │\n",
       "╞═══════╪════════╪═══════════════╪══════╪═══╪═══════════╪═══════════╪═══════════════╪══════════════╡\n",
       "│ 9803  ┆ 2024   ┆ Miles Mikolas ┆ STL  ┆ … ┆ mikom001  ┆ mikolmi01 ┆ 2012.0        ┆ 2024.0       │\n",
       "│ 10310 ┆ 2024   ┆ Zack Wheeler  ┆ PHI  ┆ … ┆ wheez001  ┆ wheelza01 ┆ 2013.0        ┆ 2024.0       │\n",
       "│ 19879 ┆ 2024   ┆ Tanner Houck  ┆ BOS  ┆ … ┆ houct001  ┆ houckta01 ┆ 2020.0        ┆ 2024.0       │\n",
       "│ 16149 ┆ 2024   ┆ Aaron Nola    ┆ PHI  ┆ … ┆ nolaa001  ┆ nolaaa01  ┆ 2015.0        ┆ 2024.0       │\n",
       "│ 9132  ┆ 2024   ┆ Nathan        ┆ TEX  ┆ … ┆ eovan001  ┆ eovalna01 ┆ 2011.0        ┆ 2024.0       │\n",
       "│       ┆        ┆ Eovaldi       ┆      ┆   ┆           ┆           ┆               ┆              │\n",
       "└───────┴────────┴───────────────┴──────┴───┴───────────┴───────────┴───────────────┴──────────────┘"
      ]
     },
     "execution_count": 5,
     "metadata": {},
     "output_type": "execute_result"
    }
   ],
   "source": [
    "# first loading other player data to join with statcast data\n",
    "fangraphs_pitching_df = pybaseball.pitching_stats(2024)\n",
    "\n",
    "player_fg_ids_df = pybaseball.playerid_reverse_lookup(\n",
    "    fangraphs_pitching_df[\"IDfg\"].unique().tolist(), key_type=\"fangraphs\"\n",
    ")\n",
    "\n",
    "player_ids_df = pl.from_pandas(fangraphs_pitching_df).join(\n",
    "    other=pl.from_pandas(player_fg_ids_df),\n",
    "    left_on=\"IDfg\",\n",
    "    right_on=\"key_fangraphs\",\n",
    "    how=\"left\",\n",
    "    validate=\"1:1\",\n",
    ")\n",
    "\n",
    "player_ids_df.sample(5, seed=1)"
   ]
  },
  {
   "cell_type": "code",
   "execution_count": 6,
   "metadata": {},
   "outputs": [
    {
     "name": "stdout",
     "output_type": "stream",
     "text": [
      "tunnel score fangraphs df shape: (157212, 595)\n"
     ]
    },
    {
     "data": {
      "text/html": [
       "<div><style>\n",
       ".dataframe > thead > tr,\n",
       ".dataframe > tbody > tr {\n",
       "  text-align: right;\n",
       "  white-space: pre-wrap;\n",
       "}\n",
       "</style>\n",
       "<small>shape: (5, 11)</small><table border=\"1\" class=\"dataframe\"><thead><tr><th>game_date</th><th>pitcher</th><th>at_bat_number</th><th>pitch_number</th><th>tunnel_distance</th><th>actual_distance</th><th>release_distance</th><th>tunnel_score</th><th>player_name</th><th>BB%</th><th>K%</th></tr><tr><td>datetime[ns]</td><td>i64</td><td>i64</td><td>i64</td><td>f64</td><td>f64</td><td>f64</td><td>f64</td><td>str</td><td>f64</td><td>f64</td></tr></thead><tbody><tr><td>2024-05-08 00:00:00</td><td>669923</td><td>32</td><td>3</td><td>1.4241</td><td>8.2481</td><td>0.0981</td><td>3.522261</td><td>&quot;Kirby, George&quot;</td><td>0.032</td><td>0.23</td></tr><tr><td>2024-08-27 00:00:00</td><td>694297</td><td>10</td><td>4</td><td>2.6836</td><td>0.7544</td><td>0.3256</td><td>5.176091</td><td>&quot;Pfaadt, Brandon&quot;</td><td>0.051</td><td>0.233</td></tr><tr><td>2024-07-06 00:00:00</td><td>642547</td><td>12</td><td>1</td><td>1.0484</td><td>1.1744</td><td>0.2096</td><td>3.147001</td><td>&quot;Peralta, Freddy&quot;</td><td>0.091</td><td>0.273</td></tr><tr><td>2024-06-25 00:00:00</td><td>686613</td><td>44</td><td>6</td><td>0.4721</td><td>2.2901</td><td>0.0356</td><td>5.018127</td><td>&quot;Brown, Hunter&quot;</td><td>0.088</td><td>0.252</td></tr><tr><td>2024-07-14 00:00:00</td><td>669854</td><td>10</td><td>6</td><td>2.3861</td><td>2.7824</td><td>0.4144</td><td>2.128473</td><td>&quot;Blanco, Ronel&quot;</td><td>0.101</td><td>0.24</td></tr></tbody></table></div>"
      ],
      "text/plain": [
       "shape: (5, 11)\n",
       "┌─────────────┬─────────┬─────────────┬─────────────┬───┬─────────────┬────────────┬───────┬───────┐\n",
       "│ game_date   ┆ pitcher ┆ at_bat_numb ┆ pitch_numbe ┆ … ┆ tunnel_scor ┆ player_nam ┆ BB%   ┆ K%    │\n",
       "│ ---         ┆ ---     ┆ er          ┆ r           ┆   ┆ e           ┆ e          ┆ ---   ┆ ---   │\n",
       "│ datetime[ns ┆ i64     ┆ ---         ┆ ---         ┆   ┆ ---         ┆ ---        ┆ f64   ┆ f64   │\n",
       "│ ]           ┆         ┆ i64         ┆ i64         ┆   ┆ f64         ┆ str        ┆       ┆       │\n",
       "╞═════════════╪═════════╪═════════════╪═════════════╪═══╪═════════════╪════════════╪═══════╪═══════╡\n",
       "│ 2024-05-08  ┆ 669923  ┆ 32          ┆ 3           ┆ … ┆ 3.522261    ┆ Kirby,     ┆ 0.032 ┆ 0.23  │\n",
       "│ 00:00:00    ┆         ┆             ┆             ┆   ┆             ┆ George     ┆       ┆       │\n",
       "│ 2024-08-27  ┆ 694297  ┆ 10          ┆ 4           ┆ … ┆ 5.176091    ┆ Pfaadt,    ┆ 0.051 ┆ 0.233 │\n",
       "│ 00:00:00    ┆         ┆             ┆             ┆   ┆             ┆ Brandon    ┆       ┆       │\n",
       "│ 2024-07-06  ┆ 642547  ┆ 12          ┆ 1           ┆ … ┆ 3.147001    ┆ Peralta,   ┆ 0.091 ┆ 0.273 │\n",
       "│ 00:00:00    ┆         ┆             ┆             ┆   ┆             ┆ Freddy     ┆       ┆       │\n",
       "│ 2024-06-25  ┆ 686613  ┆ 44          ┆ 6           ┆ … ┆ 5.018127    ┆ Brown,     ┆ 0.088 ┆ 0.252 │\n",
       "│ 00:00:00    ┆         ┆             ┆             ┆   ┆             ┆ Hunter     ┆       ┆       │\n",
       "│ 2024-07-14  ┆ 669854  ┆ 10          ┆ 6           ┆ … ┆ 2.128473    ┆ Blanco,    ┆ 0.101 ┆ 0.24  │\n",
       "│ 00:00:00    ┆         ┆             ┆             ┆   ┆             ┆ Ronel      ┆       ┆       │\n",
       "└─────────────┴─────────┴─────────────┴─────────────┴───┴─────────────┴────────────┴───────┴───────┘"
      ]
     },
     "execution_count": 6,
     "metadata": {},
     "output_type": "execute_result"
    }
   ],
   "source": [
    "# NOTE: this drops some data for newer players that are not in the playerid_reverse_lookup\n",
    "# (you can see this in the difference of the shapes of this dataframe and tunnel_score_df)\n",
    "tunnel_score_fg_df = tunnel_score_df.join(\n",
    "    other=player_ids_df,\n",
    "    left_on=\"pitcher\",\n",
    "    right_on=\"key_mlbam\",\n",
    "    how=\"inner\",  # getting rid of players that are not in the fangraphs_pitching_df\n",
    "    validate=\"m:1\",\n",
    ")\n",
    "\n",
    "print(f\"tunnel score fangraphs df shape: {tunnel_score_fg_df.shape}\")\n",
    "tunnel_score_fg_df.select(\n",
    "    SORT_COLS + TUNNEL_COLS + [\"player_name\", \"BB%\", \"K%\"]\n",
    ").sample(5, seed=1)"
   ]
  }
 ],
 "metadata": {
  "kernelspec": {
   "display_name": "venv",
   "language": "python",
   "name": "python3"
  },
  "language_info": {
   "codemirror_mode": {
    "name": "ipython",
    "version": 3
   },
   "file_extension": ".py",
   "mimetype": "text/x-python",
   "name": "python",
   "nbconvert_exporter": "python",
   "pygments_lexer": "ipython3",
   "version": "3.12.5"
  }
 },
 "nbformat": 4,
 "nbformat_minor": 2
}
