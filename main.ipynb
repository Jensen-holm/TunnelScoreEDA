{
 "cells": [
  {
   "cell_type": "markdown",
   "metadata": {},
   "source": [
    "# Tunnel Score Exploratory Data Analysis\n",
    "\n",
    "Jensen Holm\n",
    "Sep. 2024"
   ]
  },
  {
   "cell_type": "code",
   "execution_count": 1,
   "metadata": {},
   "outputs": [
    {
     "name": "stdout",
     "output_type": "stream",
     "text": [
      "This is a large query, it may take a moment to complete\n",
      "Skipping offseason dates\n"
     ]
    },
    {
     "name": "stderr",
     "output_type": "stream",
     "text": [
      "100%|██████████| 173/173 [00:57<00:00,  3.01it/s]\n",
      "/Users/jensen/Documents/projects/TunnelScoreEDA/venv/lib/python3.12/site-packages/pybaseball/statcast.py:85: FutureWarning: The behavior of DataFrame concatenation with empty or all-NA entries is deprecated. In a future version, this will no longer exclude empty or all-NA columns when determining the result dtypes. To retain the old behavior, exclude the relevant entries before the concat operation.\n",
      "  final_data = pd.concat(dataframe_list, axis=0).convert_dtypes(convert_string=False)\n"
     ]
    },
    {
     "data": {
      "text/html": [
       "<div><style>\n",
       ".dataframe > thead > tr,\n",
       ".dataframe > tbody > tr {\n",
       "  text-align: right;\n",
       "  white-space: pre-wrap;\n",
       "}\n",
       "</style>\n",
       "<small>shape: (3, 94)</small><table border=\"1\" class=\"dataframe\"><thead><tr><th>pitch_type</th><th>game_date</th><th>release_speed</th><th>release_pos_x</th><th>release_pos_z</th><th>player_name</th><th>batter</th><th>pitcher</th><th>events</th><th>description</th><th>spin_dir</th><th>spin_rate_deprecated</th><th>break_angle_deprecated</th><th>break_length_deprecated</th><th>zone</th><th>des</th><th>game_type</th><th>stand</th><th>p_throws</th><th>home_team</th><th>away_team</th><th>type</th><th>hit_location</th><th>bb_type</th><th>balls</th><th>strikes</th><th>game_year</th><th>pfx_x</th><th>pfx_z</th><th>plate_x</th><th>plate_z</th><th>on_3b</th><th>on_2b</th><th>on_1b</th><th>outs_when_up</th><th>inning</th><th>inning_topbot</th><th>&hellip;</th><th>release_extension</th><th>game_pk</th><th>pitcher.1</th><th>fielder_2.1</th><th>fielder_3</th><th>fielder_4</th><th>fielder_5</th><th>fielder_6</th><th>fielder_7</th><th>fielder_8</th><th>fielder_9</th><th>release_pos_y</th><th>estimated_ba_using_speedangle</th><th>estimated_woba_using_speedangle</th><th>woba_value</th><th>woba_denom</th><th>babip_value</th><th>iso_value</th><th>launch_speed_angle</th><th>at_bat_number</th><th>pitch_number</th><th>pitch_name</th><th>home_score</th><th>away_score</th><th>bat_score</th><th>fld_score</th><th>post_away_score</th><th>post_home_score</th><th>post_bat_score</th><th>post_fld_score</th><th>if_fielding_alignment</th><th>of_fielding_alignment</th><th>spin_axis</th><th>delta_home_win_exp</th><th>delta_run_exp</th><th>bat_speed</th><th>swing_length</th></tr><tr><td>str</td><td>datetime[ns]</td><td>f64</td><td>f64</td><td>f64</td><td>str</td><td>i64</td><td>i64</td><td>str</td><td>str</td><td>i64</td><td>i64</td><td>i64</td><td>i64</td><td>i64</td><td>str</td><td>str</td><td>str</td><td>str</td><td>str</td><td>str</td><td>str</td><td>i64</td><td>str</td><td>i64</td><td>i64</td><td>i64</td><td>f64</td><td>f64</td><td>f64</td><td>f64</td><td>i64</td><td>i64</td><td>i64</td><td>i64</td><td>i64</td><td>str</td><td>&hellip;</td><td>f64</td><td>i64</td><td>i64</td><td>i64</td><td>i64</td><td>i64</td><td>i64</td><td>i64</td><td>i64</td><td>i64</td><td>i64</td><td>f64</td><td>f64</td><td>f64</td><td>f64</td><td>i64</td><td>i64</td><td>i64</td><td>i64</td><td>i64</td><td>i64</td><td>str</td><td>i64</td><td>i64</td><td>i64</td><td>i64</td><td>i64</td><td>i64</td><td>i64</td><td>i64</td><td>str</td><td>str</td><td>i64</td><td>f64</td><td>f64</td><td>f64</td><td>f64</td></tr></thead><tbody><tr><td>&quot;FF&quot;</td><td>2024-09-01 00:00:00</td><td>87.8</td><td>-3.46</td><td>5.87</td><td>&quot;Floro, Dylan&quot;</td><td>681624</td><td>571670</td><td>&quot;strikeout&quot;</td><td>&quot;called_strike&quot;</td><td>null</td><td>null</td><td>null</td><td>null</td><td>3</td><td>&quot;Andy Pages called out on strik…</td><td>&quot;R&quot;</td><td>&quot;R&quot;</td><td>&quot;R&quot;</td><td>&quot;AZ&quot;</td><td>&quot;LAD&quot;</td><td>&quot;S&quot;</td><td>2</td><td>null</td><td>1</td><td>2</td><td>2024</td><td>-0.63</td><td>0.88</td><td>0.72</td><td>3.34</td><td>null</td><td>605131</td><td>null</td><td>2</td><td>9</td><td>&quot;Top&quot;</td><td>&hellip;</td><td>6.6</td><td>747157</td><td>571670</td><td>645444</td><td>656976</td><td>641645</td><td>553993</td><td>621028</td><td>678489</td><td>664983</td><td>682998</td><td>53.88</td><td>null</td><td>0.0</td><td>0.0</td><td>1</td><td>0</td><td>0</td><td>null</td><td>81</td><td>4</td><td>&quot;4-Seam Fastball&quot;</td><td>14</td><td>3</td><td>3</td><td>14</td><td>3</td><td>14</td><td>3</td><td>14</td><td>&quot;Standard&quot;</td><td>&quot;Standard&quot;</td><td>234</td><td>0.0</td><td>-0.232</td><td>null</td><td>null</td></tr><tr><td>&quot;SI&quot;</td><td>2024-09-01 00:00:00</td><td>90.0</td><td>-3.07</td><td>5.91</td><td>&quot;Floro, Dylan&quot;</td><td>681624</td><td>571670</td><td>null</td><td>&quot;ball&quot;</td><td>null</td><td>null</td><td>null</td><td>null</td><td>12</td><td>&quot;Andy Pages called out on strik…</td><td>&quot;R&quot;</td><td>&quot;R&quot;</td><td>&quot;R&quot;</td><td>&quot;AZ&quot;</td><td>&quot;LAD&quot;</td><td>&quot;B&quot;</td><td>null</td><td>null</td><td>0</td><td>2</td><td>2024</td><td>-1.41</td><td>0.45</td><td>0.79</td><td>3.78</td><td>null</td><td>605131</td><td>null</td><td>2</td><td>9</td><td>&quot;Top&quot;</td><td>&hellip;</td><td>6.6</td><td>747157</td><td>571670</td><td>645444</td><td>656976</td><td>641645</td><td>553993</td><td>621028</td><td>678489</td><td>664983</td><td>682998</td><td>53.87</td><td>null</td><td>null</td><td>null</td><td>null</td><td>null</td><td>null</td><td>null</td><td>81</td><td>3</td><td>&quot;Sinker&quot;</td><td>14</td><td>3</td><td>3</td><td>14</td><td>3</td><td>14</td><td>3</td><td>14</td><td>&quot;Standard&quot;</td><td>&quot;Standard&quot;</td><td>228</td><td>0.0</td><td>0.019</td><td>null</td><td>null</td></tr><tr><td>&quot;FF&quot;</td><td>2024-09-01 00:00:00</td><td>87.1</td><td>-3.57</td><td>5.8</td><td>&quot;Floro, Dylan&quot;</td><td>681624</td><td>571670</td><td>null</td><td>&quot;foul&quot;</td><td>null</td><td>null</td><td>null</td><td>null</td><td>5</td><td>&quot;Andy Pages called out on strik…</td><td>&quot;R&quot;</td><td>&quot;R&quot;</td><td>&quot;R&quot;</td><td>&quot;AZ&quot;</td><td>&quot;LAD&quot;</td><td>&quot;S&quot;</td><td>null</td><td>null</td><td>0</td><td>1</td><td>2024</td><td>-0.5</td><td>1.26</td><td>0.0</td><td>2.89</td><td>null</td><td>605131</td><td>null</td><td>2</td><td>9</td><td>&quot;Top&quot;</td><td>&hellip;</td><td>6.5</td><td>747157</td><td>571670</td><td>645444</td><td>656976</td><td>641645</td><td>553993</td><td>621028</td><td>678489</td><td>664983</td><td>682998</td><td>54.01</td><td>null</td><td>null</td><td>null</td><td>null</td><td>null</td><td>null</td><td>null</td><td>81</td><td>2</td><td>&quot;4-Seam Fastball&quot;</td><td>14</td><td>3</td><td>3</td><td>14</td><td>3</td><td>14</td><td>3</td><td>14</td><td>&quot;Standard&quot;</td><td>&quot;Standard&quot;</td><td>229</td><td>0.0</td><td>-0.076</td><td>70.02346</td><td>7.03039</td></tr></tbody></table></div>"
      ],
      "text/plain": [
       "shape: (3, 94)\n",
       "┌───────────┬───────────┬───────────┬───────────┬───┬───────────┬───────────┬───────────┬──────────┐\n",
       "│ pitch_typ ┆ game_date ┆ release_s ┆ release_p ┆ … ┆ delta_hom ┆ delta_run ┆ bat_speed ┆ swing_le │\n",
       "│ e         ┆ ---       ┆ peed      ┆ os_x      ┆   ┆ e_win_exp ┆ _exp      ┆ ---       ┆ ngth     │\n",
       "│ ---       ┆ datetime[ ┆ ---       ┆ ---       ┆   ┆ ---       ┆ ---       ┆ f64       ┆ ---      │\n",
       "│ str       ┆ ns]       ┆ f64       ┆ f64       ┆   ┆ f64       ┆ f64       ┆           ┆ f64      │\n",
       "╞═══════════╪═══════════╪═══════════╪═══════════╪═══╪═══════════╪═══════════╪═══════════╪══════════╡\n",
       "│ FF        ┆ 2024-09-0 ┆ 87.8      ┆ -3.46     ┆ … ┆ 0.0       ┆ -0.232    ┆ null      ┆ null     │\n",
       "│           ┆ 1         ┆           ┆           ┆   ┆           ┆           ┆           ┆          │\n",
       "│           ┆ 00:00:00  ┆           ┆           ┆   ┆           ┆           ┆           ┆          │\n",
       "│ SI        ┆ 2024-09-0 ┆ 90.0      ┆ -3.07     ┆ … ┆ 0.0       ┆ 0.019     ┆ null      ┆ null     │\n",
       "│           ┆ 1         ┆           ┆           ┆   ┆           ┆           ┆           ┆          │\n",
       "│           ┆ 00:00:00  ┆           ┆           ┆   ┆           ┆           ┆           ┆          │\n",
       "│ FF        ┆ 2024-09-0 ┆ 87.1      ┆ -3.57     ┆ … ┆ 0.0       ┆ -0.076    ┆ 70.02346  ┆ 7.03039  │\n",
       "│           ┆ 1         ┆           ┆           ┆   ┆           ┆           ┆           ┆          │\n",
       "│           ┆ 00:00:00  ┆           ┆           ┆   ┆           ┆           ┆           ┆          │\n",
       "└───────────┴───────────┴───────────┴───────────┴───┴───────────┴───────────┴───────────┴──────────┘"
      ]
     },
     "execution_count": 1,
     "metadata": {},
     "output_type": "execute_result"
    }
   ],
   "source": [
    "import pybaseball\n",
    "import polars as pl\n",
    "import datetime\n",
    "from utils import euclidean_distance\n",
    "\n",
    "orig_df = pl.from_pandas(\n",
    "    pybaseball.statcast(\n",
    "        start_dt=\"2024-03-01\",\n",
    "        end_dt=datetime.datetime.today().strftime('%Y-%m-%d'),\n",
    "))\n",
    "\n",
    "orig_df.head(3)"
   ]
  },
  {
   "cell_type": "markdown",
   "metadata": {},
   "source": [
    "## Tying pitches to their previous ones\n",
    "\n",
    "This will allow us to compare each pitch to the one before it, giving us the ability to calculate tunnel score."
   ]
  },
  {
   "cell_type": "code",
   "execution_count": 3,
   "metadata": {},
   "outputs": [
    {
     "data": {
      "text/html": [
       "<div><style>\n",
       ".dataframe > thead > tr,\n",
       ".dataframe > tbody > tr {\n",
       "  text-align: right;\n",
       "  white-space: pre-wrap;\n",
       "}\n",
       "</style>\n",
       "<small>shape: (5, 4)</small><table border=\"1\" class=\"dataframe\"><thead><tr><th>game_date</th><th>pitcher</th><th>at_bat_number</th><th>pitch_number</th></tr><tr><td>datetime[ns]</td><td>i64</td><td>i64</td><td>i64</td></tr></thead><tbody><tr><td>2024-09-01 00:00:00</td><td>702674</td><td>46</td><td>1</td></tr><tr><td>2024-09-01 00:00:00</td><td>702674</td><td>45</td><td>6</td></tr><tr><td>2024-09-01 00:00:00</td><td>702674</td><td>45</td><td>5</td></tr><tr><td>2024-09-01 00:00:00</td><td>702674</td><td>45</td><td>4</td></tr><tr><td>2024-09-01 00:00:00</td><td>702674</td><td>45</td><td>3</td></tr></tbody></table></div>"
      ],
      "text/plain": [
       "shape: (5, 4)\n",
       "┌─────────────────────┬─────────┬───────────────┬──────────────┐\n",
       "│ game_date           ┆ pitcher ┆ at_bat_number ┆ pitch_number │\n",
       "│ ---                 ┆ ---     ┆ ---           ┆ ---          │\n",
       "│ datetime[ns]        ┆ i64     ┆ i64           ┆ i64          │\n",
       "╞═════════════════════╪═════════╪═══════════════╪══════════════╡\n",
       "│ 2024-09-01 00:00:00 ┆ 702674  ┆ 46            ┆ 1            │\n",
       "│ 2024-09-01 00:00:00 ┆ 702674  ┆ 45            ┆ 6            │\n",
       "│ 2024-09-01 00:00:00 ┆ 702674  ┆ 45            ┆ 5            │\n",
       "│ 2024-09-01 00:00:00 ┆ 702674  ┆ 45            ┆ 4            │\n",
       "│ 2024-09-01 00:00:00 ┆ 702674  ┆ 45            ┆ 3            │\n",
       "└─────────────────────┴─────────┴───────────────┴──────────────┘"
      ]
     },
     "execution_count": 3,
     "metadata": {},
     "output_type": "execute_result"
    }
   ],
   "source": [
    "# first we need to sort all the pitches\n",
    "\n",
    "SORT_COLS = [\n",
    "    \"game_date\",\n",
    "    \"pitcher\",\n",
    "    \"at_bat_number\",\n",
    "    \"pitch_number\",\n",
    "]\n",
    "\n",
    "shifted_df = orig_df.sort(SORT_COLS, descending=True)\n",
    "\n",
    "OVER_COLS = [\"at_bat_number\", \"pitcher\"]\n",
    "# now we can shift the data by one row to get the previous pitch data for each pitch in one row\n",
    "for col_name in shifted_df.columns:\n",
    "    shifted_df = shifted_df.with_columns(\n",
    "        pl.col(col_name)\n",
    "        .shift(-1)\n",
    "        .over(OVER_COLS)\n",
    "        .alias(f\"prev_{col_name}\")\n",
    "    )\n",
    "\n",
    "shifted_df.select(SORT_COLS).head()"
   ]
  },
  {
   "cell_type": "markdown",
   "metadata": {},
   "source": [
    "## Adding Tunnel Score Columns\n"
   ]
  },
  {
   "cell_type": "code",
   "execution_count": 5,
   "metadata": {},
   "outputs": [
    {
     "data": {
      "text/html": [
       "<div><style>\n",
       ".dataframe > thead > tr,\n",
       ".dataframe > tbody > tr {\n",
       "  text-align: right;\n",
       "  white-space: pre-wrap;\n",
       "}\n",
       "</style>\n",
       "<small>shape: (5, 7)</small><table border=\"1\" class=\"dataframe\"><thead><tr><th>game_date</th><th>pitcher</th><th>at_bat_number</th><th>pitch_number</th><th>tunnel_distance</th><th>actual_distance</th><th>release_distance</th></tr><tr><td>datetime[ns]</td><td>i64</td><td>i64</td><td>i64</td><td>f64</td><td>f64</td><td>f64</td></tr></thead><tbody><tr><td>2024-09-01 00:00:00</td><td>702674</td><td>46</td><td>1</td><td>null</td><td>null</td><td>null</td></tr><tr><td>2024-09-01 00:00:00</td><td>702674</td><td>45</td><td>6</td><td>3.571582</td><td>2.080096</td><td>0.578014</td></tr><tr><td>2024-09-01 00:00:00</td><td>702674</td><td>45</td><td>5</td><td>1.861961</td><td>1.896233</td><td>0.155242</td></tr><tr><td>2024-09-01 00:00:00</td><td>702674</td><td>45</td><td>4</td><td>1.372953</td><td>0.47927</td><td>0.678823</td></tr><tr><td>2024-09-01 00:00:00</td><td>702674</td><td>45</td><td>3</td><td>0.372156</td><td>2.24058</td><td>0.554707</td></tr></tbody></table></div>"
      ],
      "text/plain": [
       "shape: (5, 7)\n",
       "┌──────────────┬─────────┬──────────────┬──────────────┬──────────────┬──────────────┬─────────────┐\n",
       "│ game_date    ┆ pitcher ┆ at_bat_numbe ┆ pitch_number ┆ tunnel_dista ┆ actual_dista ┆ release_dis │\n",
       "│ ---          ┆ ---     ┆ r            ┆ ---          ┆ nce          ┆ nce          ┆ tance       │\n",
       "│ datetime[ns] ┆ i64     ┆ ---          ┆ i64          ┆ ---          ┆ ---          ┆ ---         │\n",
       "│              ┆         ┆ i64          ┆              ┆ f64          ┆ f64          ┆ f64         │\n",
       "╞══════════════╪═════════╪══════════════╪══════════════╪══════════════╪══════════════╪═════════════╡\n",
       "│ 2024-09-01   ┆ 702674  ┆ 46           ┆ 1            ┆ null         ┆ null         ┆ null        │\n",
       "│ 00:00:00     ┆         ┆              ┆              ┆              ┆              ┆             │\n",
       "│ 2024-09-01   ┆ 702674  ┆ 45           ┆ 6            ┆ 3.571582     ┆ 2.080096     ┆ 0.578014    │\n",
       "│ 00:00:00     ┆         ┆              ┆              ┆              ┆              ┆             │\n",
       "│ 2024-09-01   ┆ 702674  ┆ 45           ┆ 5            ┆ 1.861961     ┆ 1.896233     ┆ 0.155242    │\n",
       "│ 00:00:00     ┆         ┆              ┆              ┆              ┆              ┆             │\n",
       "│ 2024-09-01   ┆ 702674  ┆ 45           ┆ 4            ┆ 1.372953     ┆ 0.47927      ┆ 0.678823    │\n",
       "│ 00:00:00     ┆         ┆              ┆              ┆              ┆              ┆             │\n",
       "│ 2024-09-01   ┆ 702674  ┆ 45           ┆ 3            ┆ 0.372156     ┆ 2.24058      ┆ 0.554707    │\n",
       "│ 00:00:00     ┆         ┆              ┆              ┆              ┆              ┆             │\n",
       "└──────────────┴─────────┴──────────────┴──────────────┴──────────────┴──────────────┴─────────────┘"
      ]
     },
     "execution_count": 5,
     "metadata": {},
     "output_type": "execute_result"
    }
   ],
   "source": [
    "# compute where the pitch and the previous one would have been if they had no movement\n",
    "tunnel_distance_df: pl.DataFrame = shifted_df.with_columns(\n",
    "    plate_x_no_move=pl.col(\"plate_x\") - pl.col(\"pfx_x\"), # x coord of the pitch if it had no movement\n",
    "    plate_z_no_move=pl.col(\"plate_z\") - pl.col(\"pfx_z\"), # z coord of the pitch if it had no movement\n",
    "    prev_plate_x_no_move=pl.col(\"prev_plate_x\") - pl.col(\"prev_pfx_x\"), # x coord of the previous pitch if it had no movement\n",
    "    prev_plate_z_no_move=pl.col(\"prev_plate_z\") - pl.col(\"prev_pfx_z\"), # z coord of the previous pitch if it had no movement\n",
    ")\n",
    "\n",
    "tunnel_score_df: pl.DataFrame = tunnel_distance_df.with_columns(\n",
    "    # tunnel_distance is the distance between the pitch and the previous pitch if they had no movement\n",
    "    tunnel_distance=euclidean_distance( \n",
    "        x1=pl.col(\"plate_x_no_move\"), \n",
    "        y1=pl.col(\"plate_z_no_move\"), \n",
    "        x2=pl.col(\"prev_plate_x_no_move\"), \n",
    "        y2=pl.col(\"prev_plate_z_no_move\"),\n",
    "    ),\n",
    "\n",
    "    # actual_distance is the distance between the pitch and the previous pitch\n",
    "    actual_distance=euclidean_distance(\n",
    "        x1=pl.col(\"plate_x\"),\n",
    "        y1=pl.col(\"plate_z\"),\n",
    "        x2=pl.col(\"prev_plate_x\"),\n",
    "        y2=pl.col(\"prev_plate_z\"),\n",
    "    ),\n",
    "\n",
    "    # release_distance is the distance between the release point of the pitch and the previous pitch\n",
    "    release_distance=euclidean_distance(\n",
    "        x1=pl.col(\"release_pos_x\"),\n",
    "        y1=pl.col(\"release_pos_z\"),\n",
    "        x2=pl.col(\"prev_release_pos_x\"),\n",
    "        y2=pl.col(\"prev_release_pos_z\"),\n",
    "    ),\n",
    ")\n",
    "\n",
    "tunnel_score_df.select(SORT_COLS + [\n",
    "    \"tunnel_distance\",\n",
    "    \"actual_distance\",\n",
    "    \"release_distance\",\n",
    "]).head()"
   ]
  },
  {
   "cell_type": "code",
   "execution_count": 6,
   "metadata": {},
   "outputs": [
    {
     "data": {
      "text/html": [
       "<div><style>\n",
       ".dataframe > thead > tr,\n",
       ".dataframe > tbody > tr {\n",
       "  text-align: right;\n",
       "  white-space: pre-wrap;\n",
       "}\n",
       "</style>\n",
       "<small>shape: (5, 5)</small><table border=\"1\" class=\"dataframe\"><thead><tr><th>game_date</th><th>pitcher</th><th>at_bat_number</th><th>pitch_number</th><th>tunnel_score</th></tr><tr><td>datetime[ns]</td><td>i64</td><td>i64</td><td>i64</td><td>f64</td></tr></thead><tbody><tr><td>2024-09-01 00:00:00</td><td>702674</td><td>46</td><td>1</td><td>null</td></tr><tr><td>2024-09-01 00:00:00</td><td>702674</td><td>45</td><td>6</td><td>1.139014</td></tr><tr><td>2024-09-01 00:00:00</td><td>702674</td><td>45</td><td>5</td><td>0.826685</td></tr><tr><td>2024-09-01 00:00:00</td><td>702674</td><td>45</td><td>4</td><td>2.185851</td></tr><tr><td>2024-09-01 00:00:00</td><td>702674</td><td>45</td><td>3</td><td>-0.388609</td></tr></tbody></table></div>"
      ],
      "text/plain": [
       "shape: (5, 5)\n",
       "┌─────────────────────┬─────────┬───────────────┬──────────────┬──────────────┐\n",
       "│ game_date           ┆ pitcher ┆ at_bat_number ┆ pitch_number ┆ tunnel_score │\n",
       "│ ---                 ┆ ---     ┆ ---           ┆ ---          ┆ ---          │\n",
       "│ datetime[ns]        ┆ i64     ┆ i64           ┆ i64          ┆ f64          │\n",
       "╞═════════════════════╪═════════╪═══════════════╪══════════════╪══════════════╡\n",
       "│ 2024-09-01 00:00:00 ┆ 702674  ┆ 46            ┆ 1            ┆ null         │\n",
       "│ 2024-09-01 00:00:00 ┆ 702674  ┆ 45            ┆ 6            ┆ 1.139014     │\n",
       "│ 2024-09-01 00:00:00 ┆ 702674  ┆ 45            ┆ 5            ┆ 0.826685     │\n",
       "│ 2024-09-01 00:00:00 ┆ 702674  ┆ 45            ┆ 4            ┆ 2.185851     │\n",
       "│ 2024-09-01 00:00:00 ┆ 702674  ┆ 45            ┆ 3            ┆ -0.388609    │\n",
       "└─────────────────────┴─────────┴───────────────┴──────────────┴──────────────┘"
      ]
     },
     "execution_count": 6,
     "metadata": {},
     "output_type": "execute_result"
    }
   ],
   "source": [
    "# now we can add tunnel score column using the tunnel_distance, actual_distance, and release_distance\n",
    "tunnel_score_df = tunnel_score_df.with_columns(\n",
    "    tunnel_score=(pl.col(\"tunnel_distance\") / pl.col(\"actual_distance\")) - pl.col(\"release_distance\"),\n",
    ")\n",
    "\n",
    "tunnel_score_df.select(SORT_COLS + [\"tunnel_score\"]).head()"
   ]
  },
  {
   "cell_type": "code",
   "execution_count": null,
   "metadata": {},
   "outputs": [],
   "source": []
  }
 ],
 "metadata": {
  "kernelspec": {
   "display_name": "venv",
   "language": "python",
   "name": "python3"
  },
  "language_info": {
   "codemirror_mode": {
    "name": "ipython",
    "version": 3
   },
   "file_extension": ".py",
   "mimetype": "text/x-python",
   "name": "python",
   "nbconvert_exporter": "python",
   "pygments_lexer": "ipython3",
   "version": "3.12.5"
  }
 },
 "nbformat": 4,
 "nbformat_minor": 2
}
